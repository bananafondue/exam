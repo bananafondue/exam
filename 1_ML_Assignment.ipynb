{
  "cells": [
    {
      "cell_type": "markdown",
      "source": [
        "# Assignment 1 : Uber ride price prediction\n",
        "\n"
      ],
      "metadata": {
        "id": "KKqQSXLk4nZ6"
      }
    },
    {
      "cell_type": "markdown",
      "metadata": {
        "id": "z9El0UPe1WOA"
      },
      "source": [
        "# Step 1 : Preprocessing"
      ]
    },
    {
      "cell_type": "code",
      "execution_count": 1,
      "metadata": {
        "execution": {
          "iopub.execute_input": "2022-08-18T17:34:28.059468Z",
          "iopub.status.busy": "2022-08-18T17:34:28.058787Z",
          "iopub.status.idle": "2022-08-18T17:34:28.071551Z",
          "shell.execute_reply": "2022-08-18T17:34:28.070565Z",
          "shell.execute_reply.started": "2022-08-18T17:34:28.059393Z"
        },
        "id": "IRoWzqu51WOE"
      },
      "outputs": [],
      "source": [
        "import pandas as pd\n",
        "import numpy as np"
      ]
    },
    {
      "cell_type": "code",
      "execution_count": 2,
      "metadata": {
        "execution": {
          "iopub.execute_input": "2022-08-18T17:34:28.077903Z",
          "iopub.status.busy": "2022-08-18T17:34:28.076978Z",
          "iopub.status.idle": "2022-08-18T17:34:28.583902Z",
          "shell.execute_reply": "2022-08-18T17:34:28.582670Z",
          "shell.execute_reply.started": "2022-08-18T17:34:28.077868Z"
        },
        "id": "r5leXSGq1WOE"
      },
      "outputs": [],
      "source": [
        "df = pd.read_csv(\"uber.csv\")"
      ]
    },
    {
      "cell_type": "code",
      "execution_count": 3,
      "metadata": {
        "execution": {
          "iopub.execute_input": "2022-08-18T17:34:28.586006Z",
          "iopub.status.busy": "2022-08-18T17:34:28.585263Z",
          "iopub.status.idle": "2022-08-18T17:34:28.607851Z",
          "shell.execute_reply": "2022-08-18T17:34:28.606595Z",
          "shell.execute_reply.started": "2022-08-18T17:34:28.585961Z"
        },
        "colab": {
          "base_uri": "https://localhost:8080/",
          "height": 354
        },
        "id": "9iRKlFn51WOF",
        "outputId": "2240d4d0-49fb-4113-bd32-e5f0aa48d050"
      },
      "outputs": [
        {
          "output_type": "execute_result",
          "data": {
            "text/plain": [
              "   Unnamed: 0                            key  fare_amount  \\\n",
              "0    24238194    2015-05-07 19:52:06.0000003          7.5   \n",
              "1    27835199    2009-07-17 20:04:56.0000002          7.7   \n",
              "2    44984355   2009-08-24 21:45:00.00000061         12.9   \n",
              "3    25894730    2009-06-26 08:22:21.0000001          5.3   \n",
              "4    17610152  2014-08-28 17:47:00.000000188         16.0   \n",
              "\n",
              "           pickup_datetime  pickup_longitude  pickup_latitude  \\\n",
              "0  2015-05-07 19:52:06 UTC        -73.999817        40.738354   \n",
              "1  2009-07-17 20:04:56 UTC        -73.994355        40.728225   \n",
              "2  2009-08-24 21:45:00 UTC        -74.005043        40.740770   \n",
              "3  2009-06-26 08:22:21 UTC        -73.976124        40.790844   \n",
              "4  2014-08-28 17:47:00 UTC        -73.925023        40.744085   \n",
              "\n",
              "   dropoff_longitude  dropoff_latitude  passenger_count  \n",
              "0         -73.999512         40.723217                1  \n",
              "1         -73.994710         40.750325                1  \n",
              "2         -73.962565         40.772647                1  \n",
              "3         -73.965316         40.803349                3  \n",
              "4         -73.973082         40.761247                5  "
            ],
            "text/html": [
              "\n",
              "  <div id=\"df-dc121fcd-a534-40cf-a032-f15779a2fe16\">\n",
              "    <div class=\"colab-df-container\">\n",
              "      <div>\n",
              "<style scoped>\n",
              "    .dataframe tbody tr th:only-of-type {\n",
              "        vertical-align: middle;\n",
              "    }\n",
              "\n",
              "    .dataframe tbody tr th {\n",
              "        vertical-align: top;\n",
              "    }\n",
              "\n",
              "    .dataframe thead th {\n",
              "        text-align: right;\n",
              "    }\n",
              "</style>\n",
              "<table border=\"1\" class=\"dataframe\">\n",
              "  <thead>\n",
              "    <tr style=\"text-align: right;\">\n",
              "      <th></th>\n",
              "      <th>Unnamed: 0</th>\n",
              "      <th>key</th>\n",
              "      <th>fare_amount</th>\n",
              "      <th>pickup_datetime</th>\n",
              "      <th>pickup_longitude</th>\n",
              "      <th>pickup_latitude</th>\n",
              "      <th>dropoff_longitude</th>\n",
              "      <th>dropoff_latitude</th>\n",
              "      <th>passenger_count</th>\n",
              "    </tr>\n",
              "  </thead>\n",
              "  <tbody>\n",
              "    <tr>\n",
              "      <th>0</th>\n",
              "      <td>24238194</td>\n",
              "      <td>2015-05-07 19:52:06.0000003</td>\n",
              "      <td>7.5</td>\n",
              "      <td>2015-05-07 19:52:06 UTC</td>\n",
              "      <td>-73.999817</td>\n",
              "      <td>40.738354</td>\n",
              "      <td>-73.999512</td>\n",
              "      <td>40.723217</td>\n",
              "      <td>1</td>\n",
              "    </tr>\n",
              "    <tr>\n",
              "      <th>1</th>\n",
              "      <td>27835199</td>\n",
              "      <td>2009-07-17 20:04:56.0000002</td>\n",
              "      <td>7.7</td>\n",
              "      <td>2009-07-17 20:04:56 UTC</td>\n",
              "      <td>-73.994355</td>\n",
              "      <td>40.728225</td>\n",
              "      <td>-73.994710</td>\n",
              "      <td>40.750325</td>\n",
              "      <td>1</td>\n",
              "    </tr>\n",
              "    <tr>\n",
              "      <th>2</th>\n",
              "      <td>44984355</td>\n",
              "      <td>2009-08-24 21:45:00.00000061</td>\n",
              "      <td>12.9</td>\n",
              "      <td>2009-08-24 21:45:00 UTC</td>\n",
              "      <td>-74.005043</td>\n",
              "      <td>40.740770</td>\n",
              "      <td>-73.962565</td>\n",
              "      <td>40.772647</td>\n",
              "      <td>1</td>\n",
              "    </tr>\n",
              "    <tr>\n",
              "      <th>3</th>\n",
              "      <td>25894730</td>\n",
              "      <td>2009-06-26 08:22:21.0000001</td>\n",
              "      <td>5.3</td>\n",
              "      <td>2009-06-26 08:22:21 UTC</td>\n",
              "      <td>-73.976124</td>\n",
              "      <td>40.790844</td>\n",
              "      <td>-73.965316</td>\n",
              "      <td>40.803349</td>\n",
              "      <td>3</td>\n",
              "    </tr>\n",
              "    <tr>\n",
              "      <th>4</th>\n",
              "      <td>17610152</td>\n",
              "      <td>2014-08-28 17:47:00.000000188</td>\n",
              "      <td>16.0</td>\n",
              "      <td>2014-08-28 17:47:00 UTC</td>\n",
              "      <td>-73.925023</td>\n",
              "      <td>40.744085</td>\n",
              "      <td>-73.973082</td>\n",
              "      <td>40.761247</td>\n",
              "      <td>5</td>\n",
              "    </tr>\n",
              "  </tbody>\n",
              "</table>\n",
              "</div>\n",
              "      <button class=\"colab-df-convert\" onclick=\"convertToInteractive('df-dc121fcd-a534-40cf-a032-f15779a2fe16')\"\n",
              "              title=\"Convert this dataframe to an interactive table.\"\n",
              "              style=\"display:none;\">\n",
              "        \n",
              "  <svg xmlns=\"http://www.w3.org/2000/svg\" height=\"24px\"viewBox=\"0 0 24 24\"\n",
              "       width=\"24px\">\n",
              "    <path d=\"M0 0h24v24H0V0z\" fill=\"none\"/>\n",
              "    <path d=\"M18.56 5.44l.94 2.06.94-2.06 2.06-.94-2.06-.94-.94-2.06-.94 2.06-2.06.94zm-11 1L8.5 8.5l.94-2.06 2.06-.94-2.06-.94L8.5 2.5l-.94 2.06-2.06.94zm10 10l.94 2.06.94-2.06 2.06-.94-2.06-.94-.94-2.06-.94 2.06-2.06.94z\"/><path d=\"M17.41 7.96l-1.37-1.37c-.4-.4-.92-.59-1.43-.59-.52 0-1.04.2-1.43.59L10.3 9.45l-7.72 7.72c-.78.78-.78 2.05 0 2.83L4 21.41c.39.39.9.59 1.41.59.51 0 1.02-.2 1.41-.59l7.78-7.78 2.81-2.81c.8-.78.8-2.07 0-2.86zM5.41 20L4 18.59l7.72-7.72 1.47 1.35L5.41 20z\"/>\n",
              "  </svg>\n",
              "      </button>\n",
              "      \n",
              "  <style>\n",
              "    .colab-df-container {\n",
              "      display:flex;\n",
              "      flex-wrap:wrap;\n",
              "      gap: 12px;\n",
              "    }\n",
              "\n",
              "    .colab-df-convert {\n",
              "      background-color: #E8F0FE;\n",
              "      border: none;\n",
              "      border-radius: 50%;\n",
              "      cursor: pointer;\n",
              "      display: none;\n",
              "      fill: #1967D2;\n",
              "      height: 32px;\n",
              "      padding: 0 0 0 0;\n",
              "      width: 32px;\n",
              "    }\n",
              "\n",
              "    .colab-df-convert:hover {\n",
              "      background-color: #E2EBFA;\n",
              "      box-shadow: 0px 1px 2px rgba(60, 64, 67, 0.3), 0px 1px 3px 1px rgba(60, 64, 67, 0.15);\n",
              "      fill: #174EA6;\n",
              "    }\n",
              "\n",
              "    [theme=dark] .colab-df-convert {\n",
              "      background-color: #3B4455;\n",
              "      fill: #D2E3FC;\n",
              "    }\n",
              "\n",
              "    [theme=dark] .colab-df-convert:hover {\n",
              "      background-color: #434B5C;\n",
              "      box-shadow: 0px 1px 3px 1px rgba(0, 0, 0, 0.15);\n",
              "      filter: drop-shadow(0px 1px 2px rgba(0, 0, 0, 0.3));\n",
              "      fill: #FFFFFF;\n",
              "    }\n",
              "  </style>\n",
              "\n",
              "      <script>\n",
              "        const buttonEl =\n",
              "          document.querySelector('#df-dc121fcd-a534-40cf-a032-f15779a2fe16 button.colab-df-convert');\n",
              "        buttonEl.style.display =\n",
              "          google.colab.kernel.accessAllowed ? 'block' : 'none';\n",
              "\n",
              "        async function convertToInteractive(key) {\n",
              "          const element = document.querySelector('#df-dc121fcd-a534-40cf-a032-f15779a2fe16');\n",
              "          const dataTable =\n",
              "            await google.colab.kernel.invokeFunction('convertToInteractive',\n",
              "                                                     [key], {});\n",
              "          if (!dataTable) return;\n",
              "\n",
              "          const docLinkHtml = 'Like what you see? Visit the ' +\n",
              "            '<a target=\"_blank\" href=https://colab.research.google.com/notebooks/data_table.ipynb>data table notebook</a>'\n",
              "            + ' to learn more about interactive tables.';\n",
              "          element.innerHTML = '';\n",
              "          dataTable['output_type'] = 'display_data';\n",
              "          await google.colab.output.renderOutput(dataTable, element);\n",
              "          const docLink = document.createElement('div');\n",
              "          docLink.innerHTML = docLinkHtml;\n",
              "          element.appendChild(docLink);\n",
              "        }\n",
              "      </script>\n",
              "    </div>\n",
              "  </div>\n",
              "  "
            ]
          },
          "metadata": {},
          "execution_count": 3
        }
      ],
      "source": [
        "df.head()"
      ]
    },
    {
      "cell_type": "code",
      "execution_count": 4,
      "metadata": {
        "execution": {
          "iopub.execute_input": "2022-08-18T17:34:28.621823Z",
          "iopub.status.busy": "2022-08-18T17:34:28.621162Z",
          "iopub.status.idle": "2022-08-18T17:34:28.632474Z",
          "shell.execute_reply": "2022-08-18T17:34:28.631534Z",
          "shell.execute_reply.started": "2022-08-18T17:34:28.621789Z"
        },
        "colab": {
          "base_uri": "https://localhost:8080/"
        },
        "id": "N6eZucGO1WOG",
        "outputId": "7ab9dae2-1fe9-479d-85dc-eba0fd5eb497"
      },
      "outputs": [
        {
          "output_type": "execute_result",
          "data": {
            "text/plain": [
              "(200000, 9)"
            ]
          },
          "metadata": {},
          "execution_count": 4
        }
      ],
      "source": [
        "df.shape"
      ]
    },
    {
      "cell_type": "code",
      "execution_count": 5,
      "metadata": {
        "execution": {
          "iopub.execute_input": "2022-08-18T17:34:28.612840Z",
          "iopub.status.busy": "2022-08-18T17:34:28.611790Z",
          "iopub.status.idle": "2022-08-18T17:34:28.619546Z",
          "shell.execute_reply": "2022-08-18T17:34:28.618447Z",
          "shell.execute_reply.started": "2022-08-18T17:34:28.612799Z"
        },
        "colab": {
          "base_uri": "https://localhost:8080/"
        },
        "id": "yV_Vsv0h1WOG",
        "outputId": "ada10fde-edb7-4d49-905e-47cf92cba89c"
      },
      "outputs": [
        {
          "output_type": "execute_result",
          "data": {
            "text/plain": [
              "Index(['Unnamed: 0', 'key', 'fare_amount', 'pickup_datetime',\n",
              "       'pickup_longitude', 'pickup_latitude', 'dropoff_longitude',\n",
              "       'dropoff_latitude', 'passenger_count'],\n",
              "      dtype='object')"
            ]
          },
          "metadata": {},
          "execution_count": 5
        }
      ],
      "source": [
        "df.columns"
      ]
    },
    {
      "cell_type": "code",
      "execution_count": 6,
      "metadata": {
        "execution": {
          "iopub.execute_input": "2022-08-18T17:34:28.634571Z",
          "iopub.status.busy": "2022-08-18T17:34:28.634174Z",
          "iopub.status.idle": "2022-08-18T17:34:28.667001Z",
          "shell.execute_reply": "2022-08-18T17:34:28.665913Z",
          "shell.execute_reply.started": "2022-08-18T17:34:28.634540Z"
        },
        "id": "sPgN19o21WOG"
      },
      "outputs": [],
      "source": [
        "u_df = df.drop(['Unnamed: 0','key'], axis=1)"
      ]
    },
    {
      "cell_type": "code",
      "execution_count": 7,
      "metadata": {
        "execution": {
          "iopub.execute_input": "2022-08-18T17:34:28.668790Z",
          "iopub.status.busy": "2022-08-18T17:34:28.668413Z",
          "iopub.status.idle": "2022-08-18T17:34:28.676006Z",
          "shell.execute_reply": "2022-08-18T17:34:28.674842Z",
          "shell.execute_reply.started": "2022-08-18T17:34:28.668757Z"
        },
        "colab": {
          "base_uri": "https://localhost:8080/"
        },
        "id": "iNrt0T_21WOH",
        "outputId": "f463686f-be47-4281-c607-1e560b6a1b23"
      },
      "outputs": [
        {
          "output_type": "execute_result",
          "data": {
            "text/plain": [
              "(200000, 7)"
            ]
          },
          "metadata": {},
          "execution_count": 7
        }
      ],
      "source": [
        "u_df.shape"
      ]
    },
    {
      "cell_type": "code",
      "execution_count": 8,
      "metadata": {
        "execution": {
          "iopub.execute_input": "2022-08-18T17:34:28.677445Z",
          "iopub.status.busy": "2022-08-18T17:34:28.677037Z",
          "iopub.status.idle": "2022-08-18T17:34:28.775812Z",
          "shell.execute_reply": "2022-08-18T17:34:28.774711Z",
          "shell.execute_reply.started": "2022-08-18T17:34:28.677413Z"
        },
        "colab": {
          "base_uri": "https://localhost:8080/",
          "height": 206
        },
        "id": "9HyATM0O1WOH",
        "outputId": "b0c3c36e-8bc0-4a57-a55c-16c71e41da1c"
      },
      "outputs": [
        {
          "output_type": "execute_result",
          "data": {
            "text/plain": [
              "   fare_amount          pickup_datetime  pickup_longitude  pickup_latitude  \\\n",
              "0          7.5  2015-05-07 19:52:06 UTC        -73.999817        40.738354   \n",
              "1          7.7  2009-07-17 20:04:56 UTC        -73.994355        40.728225   \n",
              "2         12.9  2009-08-24 21:45:00 UTC        -74.005043        40.740770   \n",
              "3          5.3  2009-06-26 08:22:21 UTC        -73.976124        40.790844   \n",
              "4         16.0  2014-08-28 17:47:00 UTC        -73.925023        40.744085   \n",
              "\n",
              "   dropoff_longitude  dropoff_latitude  passenger_count month  \n",
              "0         -73.999512         40.723217                1    05  \n",
              "1         -73.994710         40.750325                1    07  \n",
              "2         -73.962565         40.772647                1    08  \n",
              "3         -73.965316         40.803349                3    06  \n",
              "4         -73.973082         40.761247                5    08  "
            ],
            "text/html": [
              "\n",
              "  <div id=\"df-a65efc71-5c02-45cc-b6ee-270a6c74b344\">\n",
              "    <div class=\"colab-df-container\">\n",
              "      <div>\n",
              "<style scoped>\n",
              "    .dataframe tbody tr th:only-of-type {\n",
              "        vertical-align: middle;\n",
              "    }\n",
              "\n",
              "    .dataframe tbody tr th {\n",
              "        vertical-align: top;\n",
              "    }\n",
              "\n",
              "    .dataframe thead th {\n",
              "        text-align: right;\n",
              "    }\n",
              "</style>\n",
              "<table border=\"1\" class=\"dataframe\">\n",
              "  <thead>\n",
              "    <tr style=\"text-align: right;\">\n",
              "      <th></th>\n",
              "      <th>fare_amount</th>\n",
              "      <th>pickup_datetime</th>\n",
              "      <th>pickup_longitude</th>\n",
              "      <th>pickup_latitude</th>\n",
              "      <th>dropoff_longitude</th>\n",
              "      <th>dropoff_latitude</th>\n",
              "      <th>passenger_count</th>\n",
              "      <th>month</th>\n",
              "    </tr>\n",
              "  </thead>\n",
              "  <tbody>\n",
              "    <tr>\n",
              "      <th>0</th>\n",
              "      <td>7.5</td>\n",
              "      <td>2015-05-07 19:52:06 UTC</td>\n",
              "      <td>-73.999817</td>\n",
              "      <td>40.738354</td>\n",
              "      <td>-73.999512</td>\n",
              "      <td>40.723217</td>\n",
              "      <td>1</td>\n",
              "      <td>05</td>\n",
              "    </tr>\n",
              "    <tr>\n",
              "      <th>1</th>\n",
              "      <td>7.7</td>\n",
              "      <td>2009-07-17 20:04:56 UTC</td>\n",
              "      <td>-73.994355</td>\n",
              "      <td>40.728225</td>\n",
              "      <td>-73.994710</td>\n",
              "      <td>40.750325</td>\n",
              "      <td>1</td>\n",
              "      <td>07</td>\n",
              "    </tr>\n",
              "    <tr>\n",
              "      <th>2</th>\n",
              "      <td>12.9</td>\n",
              "      <td>2009-08-24 21:45:00 UTC</td>\n",
              "      <td>-74.005043</td>\n",
              "      <td>40.740770</td>\n",
              "      <td>-73.962565</td>\n",
              "      <td>40.772647</td>\n",
              "      <td>1</td>\n",
              "      <td>08</td>\n",
              "    </tr>\n",
              "    <tr>\n",
              "      <th>3</th>\n",
              "      <td>5.3</td>\n",
              "      <td>2009-06-26 08:22:21 UTC</td>\n",
              "      <td>-73.976124</td>\n",
              "      <td>40.790844</td>\n",
              "      <td>-73.965316</td>\n",
              "      <td>40.803349</td>\n",
              "      <td>3</td>\n",
              "      <td>06</td>\n",
              "    </tr>\n",
              "    <tr>\n",
              "      <th>4</th>\n",
              "      <td>16.0</td>\n",
              "      <td>2014-08-28 17:47:00 UTC</td>\n",
              "      <td>-73.925023</td>\n",
              "      <td>40.744085</td>\n",
              "      <td>-73.973082</td>\n",
              "      <td>40.761247</td>\n",
              "      <td>5</td>\n",
              "      <td>08</td>\n",
              "    </tr>\n",
              "  </tbody>\n",
              "</table>\n",
              "</div>\n",
              "      <button class=\"colab-df-convert\" onclick=\"convertToInteractive('df-a65efc71-5c02-45cc-b6ee-270a6c74b344')\"\n",
              "              title=\"Convert this dataframe to an interactive table.\"\n",
              "              style=\"display:none;\">\n",
              "        \n",
              "  <svg xmlns=\"http://www.w3.org/2000/svg\" height=\"24px\"viewBox=\"0 0 24 24\"\n",
              "       width=\"24px\">\n",
              "    <path d=\"M0 0h24v24H0V0z\" fill=\"none\"/>\n",
              "    <path d=\"M18.56 5.44l.94 2.06.94-2.06 2.06-.94-2.06-.94-.94-2.06-.94 2.06-2.06.94zm-11 1L8.5 8.5l.94-2.06 2.06-.94-2.06-.94L8.5 2.5l-.94 2.06-2.06.94zm10 10l.94 2.06.94-2.06 2.06-.94-2.06-.94-.94-2.06-.94 2.06-2.06.94z\"/><path d=\"M17.41 7.96l-1.37-1.37c-.4-.4-.92-.59-1.43-.59-.52 0-1.04.2-1.43.59L10.3 9.45l-7.72 7.72c-.78.78-.78 2.05 0 2.83L4 21.41c.39.39.9.59 1.41.59.51 0 1.02-.2 1.41-.59l7.78-7.78 2.81-2.81c.8-.78.8-2.07 0-2.86zM5.41 20L4 18.59l7.72-7.72 1.47 1.35L5.41 20z\"/>\n",
              "  </svg>\n",
              "      </button>\n",
              "      \n",
              "  <style>\n",
              "    .colab-df-container {\n",
              "      display:flex;\n",
              "      flex-wrap:wrap;\n",
              "      gap: 12px;\n",
              "    }\n",
              "\n",
              "    .colab-df-convert {\n",
              "      background-color: #E8F0FE;\n",
              "      border: none;\n",
              "      border-radius: 50%;\n",
              "      cursor: pointer;\n",
              "      display: none;\n",
              "      fill: #1967D2;\n",
              "      height: 32px;\n",
              "      padding: 0 0 0 0;\n",
              "      width: 32px;\n",
              "    }\n",
              "\n",
              "    .colab-df-convert:hover {\n",
              "      background-color: #E2EBFA;\n",
              "      box-shadow: 0px 1px 2px rgba(60, 64, 67, 0.3), 0px 1px 3px 1px rgba(60, 64, 67, 0.15);\n",
              "      fill: #174EA6;\n",
              "    }\n",
              "\n",
              "    [theme=dark] .colab-df-convert {\n",
              "      background-color: #3B4455;\n",
              "      fill: #D2E3FC;\n",
              "    }\n",
              "\n",
              "    [theme=dark] .colab-df-convert:hover {\n",
              "      background-color: #434B5C;\n",
              "      box-shadow: 0px 1px 3px 1px rgba(0, 0, 0, 0.15);\n",
              "      filter: drop-shadow(0px 1px 2px rgba(0, 0, 0, 0.3));\n",
              "      fill: #FFFFFF;\n",
              "    }\n",
              "  </style>\n",
              "\n",
              "      <script>\n",
              "        const buttonEl =\n",
              "          document.querySelector('#df-a65efc71-5c02-45cc-b6ee-270a6c74b344 button.colab-df-convert');\n",
              "        buttonEl.style.display =\n",
              "          google.colab.kernel.accessAllowed ? 'block' : 'none';\n",
              "\n",
              "        async function convertToInteractive(key) {\n",
              "          const element = document.querySelector('#df-a65efc71-5c02-45cc-b6ee-270a6c74b344');\n",
              "          const dataTable =\n",
              "            await google.colab.kernel.invokeFunction('convertToInteractive',\n",
              "                                                     [key], {});\n",
              "          if (!dataTable) return;\n",
              "\n",
              "          const docLinkHtml = 'Like what you see? Visit the ' +\n",
              "            '<a target=\"_blank\" href=https://colab.research.google.com/notebooks/data_table.ipynb>data table notebook</a>'\n",
              "            + ' to learn more about interactive tables.';\n",
              "          element.innerHTML = '';\n",
              "          dataTable['output_type'] = 'display_data';\n",
              "          await google.colab.output.renderOutput(dataTable, element);\n",
              "          const docLink = document.createElement('div');\n",
              "          docLink.innerHTML = docLinkHtml;\n",
              "          element.appendChild(docLink);\n",
              "        }\n",
              "      </script>\n",
              "    </div>\n",
              "  </div>\n",
              "  "
            ]
          },
          "metadata": {},
          "execution_count": 8
        }
      ],
      "source": [
        "u_df['month'] = u_df['pickup_datetime']\n",
        "u_df.head()\n",
        "u_df.month = u_df.month.str.slice(start=5, stop=7)\n",
        "u_df.head()"
      ]
    },
    {
      "cell_type": "code",
      "execution_count": 9,
      "metadata": {
        "execution": {
          "iopub.execute_input": "2022-08-18T17:34:28.777518Z",
          "iopub.status.busy": "2022-08-18T17:34:28.777182Z",
          "iopub.status.idle": "2022-08-18T17:34:28.872556Z",
          "shell.execute_reply": "2022-08-18T17:34:28.871194Z",
          "shell.execute_reply.started": "2022-08-18T17:34:28.777489Z"
        },
        "colab": {
          "base_uri": "https://localhost:8080/",
          "height": 206
        },
        "id": "c70difCU1WOH",
        "outputId": "96e32243-3c33-423c-84d2-3017ff57f538"
      },
      "outputs": [
        {
          "output_type": "execute_result",
          "data": {
            "text/plain": [
              "   fare_amount          pickup_datetime  pickup_longitude  pickup_latitude  \\\n",
              "0          7.5  2015-05-07 19:52:06 UTC        -73.999817        40.738354   \n",
              "1          7.7  2009-07-17 20:04:56 UTC        -73.994355        40.728225   \n",
              "2         12.9  2009-08-24 21:45:00 UTC        -74.005043        40.740770   \n",
              "3          5.3  2009-06-26 08:22:21 UTC        -73.976124        40.790844   \n",
              "4         16.0  2014-08-28 17:47:00 UTC        -73.925023        40.744085   \n",
              "\n",
              "   dropoff_longitude  dropoff_latitude  passenger_count month hour  \n",
              "0         -73.999512         40.723217                1    05   19  \n",
              "1         -73.994710         40.750325                1    07   20  \n",
              "2         -73.962565         40.772647                1    08   21  \n",
              "3         -73.965316         40.803349                3    06   08  \n",
              "4         -73.973082         40.761247                5    08   17  "
            ],
            "text/html": [
              "\n",
              "  <div id=\"df-92947e42-017f-41ec-b0e5-1d87a505764c\">\n",
              "    <div class=\"colab-df-container\">\n",
              "      <div>\n",
              "<style scoped>\n",
              "    .dataframe tbody tr th:only-of-type {\n",
              "        vertical-align: middle;\n",
              "    }\n",
              "\n",
              "    .dataframe tbody tr th {\n",
              "        vertical-align: top;\n",
              "    }\n",
              "\n",
              "    .dataframe thead th {\n",
              "        text-align: right;\n",
              "    }\n",
              "</style>\n",
              "<table border=\"1\" class=\"dataframe\">\n",
              "  <thead>\n",
              "    <tr style=\"text-align: right;\">\n",
              "      <th></th>\n",
              "      <th>fare_amount</th>\n",
              "      <th>pickup_datetime</th>\n",
              "      <th>pickup_longitude</th>\n",
              "      <th>pickup_latitude</th>\n",
              "      <th>dropoff_longitude</th>\n",
              "      <th>dropoff_latitude</th>\n",
              "      <th>passenger_count</th>\n",
              "      <th>month</th>\n",
              "      <th>hour</th>\n",
              "    </tr>\n",
              "  </thead>\n",
              "  <tbody>\n",
              "    <tr>\n",
              "      <th>0</th>\n",
              "      <td>7.5</td>\n",
              "      <td>2015-05-07 19:52:06 UTC</td>\n",
              "      <td>-73.999817</td>\n",
              "      <td>40.738354</td>\n",
              "      <td>-73.999512</td>\n",
              "      <td>40.723217</td>\n",
              "      <td>1</td>\n",
              "      <td>05</td>\n",
              "      <td>19</td>\n",
              "    </tr>\n",
              "    <tr>\n",
              "      <th>1</th>\n",
              "      <td>7.7</td>\n",
              "      <td>2009-07-17 20:04:56 UTC</td>\n",
              "      <td>-73.994355</td>\n",
              "      <td>40.728225</td>\n",
              "      <td>-73.994710</td>\n",
              "      <td>40.750325</td>\n",
              "      <td>1</td>\n",
              "      <td>07</td>\n",
              "      <td>20</td>\n",
              "    </tr>\n",
              "    <tr>\n",
              "      <th>2</th>\n",
              "      <td>12.9</td>\n",
              "      <td>2009-08-24 21:45:00 UTC</td>\n",
              "      <td>-74.005043</td>\n",
              "      <td>40.740770</td>\n",
              "      <td>-73.962565</td>\n",
              "      <td>40.772647</td>\n",
              "      <td>1</td>\n",
              "      <td>08</td>\n",
              "      <td>21</td>\n",
              "    </tr>\n",
              "    <tr>\n",
              "      <th>3</th>\n",
              "      <td>5.3</td>\n",
              "      <td>2009-06-26 08:22:21 UTC</td>\n",
              "      <td>-73.976124</td>\n",
              "      <td>40.790844</td>\n",
              "      <td>-73.965316</td>\n",
              "      <td>40.803349</td>\n",
              "      <td>3</td>\n",
              "      <td>06</td>\n",
              "      <td>08</td>\n",
              "    </tr>\n",
              "    <tr>\n",
              "      <th>4</th>\n",
              "      <td>16.0</td>\n",
              "      <td>2014-08-28 17:47:00 UTC</td>\n",
              "      <td>-73.925023</td>\n",
              "      <td>40.744085</td>\n",
              "      <td>-73.973082</td>\n",
              "      <td>40.761247</td>\n",
              "      <td>5</td>\n",
              "      <td>08</td>\n",
              "      <td>17</td>\n",
              "    </tr>\n",
              "  </tbody>\n",
              "</table>\n",
              "</div>\n",
              "      <button class=\"colab-df-convert\" onclick=\"convertToInteractive('df-92947e42-017f-41ec-b0e5-1d87a505764c')\"\n",
              "              title=\"Convert this dataframe to an interactive table.\"\n",
              "              style=\"display:none;\">\n",
              "        \n",
              "  <svg xmlns=\"http://www.w3.org/2000/svg\" height=\"24px\"viewBox=\"0 0 24 24\"\n",
              "       width=\"24px\">\n",
              "    <path d=\"M0 0h24v24H0V0z\" fill=\"none\"/>\n",
              "    <path d=\"M18.56 5.44l.94 2.06.94-2.06 2.06-.94-2.06-.94-.94-2.06-.94 2.06-2.06.94zm-11 1L8.5 8.5l.94-2.06 2.06-.94-2.06-.94L8.5 2.5l-.94 2.06-2.06.94zm10 10l.94 2.06.94-2.06 2.06-.94-2.06-.94-.94-2.06-.94 2.06-2.06.94z\"/><path d=\"M17.41 7.96l-1.37-1.37c-.4-.4-.92-.59-1.43-.59-.52 0-1.04.2-1.43.59L10.3 9.45l-7.72 7.72c-.78.78-.78 2.05 0 2.83L4 21.41c.39.39.9.59 1.41.59.51 0 1.02-.2 1.41-.59l7.78-7.78 2.81-2.81c.8-.78.8-2.07 0-2.86zM5.41 20L4 18.59l7.72-7.72 1.47 1.35L5.41 20z\"/>\n",
              "  </svg>\n",
              "      </button>\n",
              "      \n",
              "  <style>\n",
              "    .colab-df-container {\n",
              "      display:flex;\n",
              "      flex-wrap:wrap;\n",
              "      gap: 12px;\n",
              "    }\n",
              "\n",
              "    .colab-df-convert {\n",
              "      background-color: #E8F0FE;\n",
              "      border: none;\n",
              "      border-radius: 50%;\n",
              "      cursor: pointer;\n",
              "      display: none;\n",
              "      fill: #1967D2;\n",
              "      height: 32px;\n",
              "      padding: 0 0 0 0;\n",
              "      width: 32px;\n",
              "    }\n",
              "\n",
              "    .colab-df-convert:hover {\n",
              "      background-color: #E2EBFA;\n",
              "      box-shadow: 0px 1px 2px rgba(60, 64, 67, 0.3), 0px 1px 3px 1px rgba(60, 64, 67, 0.15);\n",
              "      fill: #174EA6;\n",
              "    }\n",
              "\n",
              "    [theme=dark] .colab-df-convert {\n",
              "      background-color: #3B4455;\n",
              "      fill: #D2E3FC;\n",
              "    }\n",
              "\n",
              "    [theme=dark] .colab-df-convert:hover {\n",
              "      background-color: #434B5C;\n",
              "      box-shadow: 0px 1px 3px 1px rgba(0, 0, 0, 0.15);\n",
              "      filter: drop-shadow(0px 1px 2px rgba(0, 0, 0, 0.3));\n",
              "      fill: #FFFFFF;\n",
              "    }\n",
              "  </style>\n",
              "\n",
              "      <script>\n",
              "        const buttonEl =\n",
              "          document.querySelector('#df-92947e42-017f-41ec-b0e5-1d87a505764c button.colab-df-convert');\n",
              "        buttonEl.style.display =\n",
              "          google.colab.kernel.accessAllowed ? 'block' : 'none';\n",
              "\n",
              "        async function convertToInteractive(key) {\n",
              "          const element = document.querySelector('#df-92947e42-017f-41ec-b0e5-1d87a505764c');\n",
              "          const dataTable =\n",
              "            await google.colab.kernel.invokeFunction('convertToInteractive',\n",
              "                                                     [key], {});\n",
              "          if (!dataTable) return;\n",
              "\n",
              "          const docLinkHtml = 'Like what you see? Visit the ' +\n",
              "            '<a target=\"_blank\" href=https://colab.research.google.com/notebooks/data_table.ipynb>data table notebook</a>'\n",
              "            + ' to learn more about interactive tables.';\n",
              "          element.innerHTML = '';\n",
              "          dataTable['output_type'] = 'display_data';\n",
              "          await google.colab.output.renderOutput(dataTable, element);\n",
              "          const docLink = document.createElement('div');\n",
              "          docLink.innerHTML = docLinkHtml;\n",
              "          element.appendChild(docLink);\n",
              "        }\n",
              "      </script>\n",
              "    </div>\n",
              "  </div>\n",
              "  "
            ]
          },
          "metadata": {},
          "execution_count": 9
        }
      ],
      "source": [
        "u_df['hour'] = u_df['pickup_datetime']\n",
        "u_df.hour = u_df.hour.str.slice(start=11, stop=13)\n",
        "u_df.head()"
      ]
    },
    {
      "cell_type": "code",
      "execution_count": 10,
      "metadata": {
        "execution": {
          "iopub.execute_input": "2022-08-18T17:34:28.874389Z",
          "iopub.status.busy": "2022-08-18T17:34:28.873997Z",
          "iopub.status.idle": "2022-08-18T17:34:28.916751Z",
          "shell.execute_reply": "2022-08-18T17:34:28.915538Z",
          "shell.execute_reply.started": "2022-08-18T17:34:28.874354Z"
        },
        "colab": {
          "base_uri": "https://localhost:8080/"
        },
        "id": "ezPpRj4x1WOI",
        "outputId": "cedc6c48-3f27-406c-d076-1f3ec246e727"
      },
      "outputs": [
        {
          "output_type": "execute_result",
          "data": {
            "text/plain": [
              "(200000, 8)"
            ]
          },
          "metadata": {},
          "execution_count": 10
        }
      ],
      "source": [
        "u_df.drop('pickup_datetime', axis=1, inplace=True)\n",
        "u_df.shape"
      ]
    },
    {
      "cell_type": "code",
      "execution_count": 11,
      "metadata": {
        "execution": {
          "iopub.execute_input": "2022-08-18T17:34:28.918588Z",
          "iopub.status.busy": "2022-08-18T17:34:28.918201Z",
          "iopub.status.idle": "2022-08-18T17:34:28.948612Z",
          "shell.execute_reply": "2022-08-18T17:34:28.947440Z",
          "shell.execute_reply.started": "2022-08-18T17:34:28.918557Z"
        },
        "colab": {
          "base_uri": "https://localhost:8080/"
        },
        "id": "Yl0dJN7_1WOI",
        "outputId": "73240eb4-b0d9-479f-d4a8-e96e8e5cdb30"
      },
      "outputs": [
        {
          "output_type": "execute_result",
          "data": {
            "text/plain": [
              "fare_amount          0\n",
              "pickup_longitude     0\n",
              "pickup_latitude      0\n",
              "dropoff_longitude    1\n",
              "dropoff_latitude     1\n",
              "passenger_count      0\n",
              "month                0\n",
              "hour                 0\n",
              "dtype: int64"
            ]
          },
          "metadata": {},
          "execution_count": 11
        }
      ],
      "source": [
        "u_df.isnull().sum()"
      ]
    },
    {
      "cell_type": "code",
      "execution_count": 12,
      "metadata": {
        "execution": {
          "iopub.execute_input": "2022-08-18T17:34:28.950959Z",
          "iopub.status.busy": "2022-08-18T17:34:28.950223Z",
          "iopub.status.idle": "2022-08-18T17:34:28.999280Z",
          "shell.execute_reply": "2022-08-18T17:34:28.998192Z",
          "shell.execute_reply.started": "2022-08-18T17:34:28.950912Z"
        },
        "id": "jTXCmOKX1WOI"
      },
      "outputs": [],
      "source": [
        "u_df.dropna(inplace=True)"
      ]
    },
    {
      "cell_type": "code",
      "execution_count": 13,
      "metadata": {
        "execution": {
          "iopub.execute_input": "2022-08-18T17:34:29.006040Z",
          "iopub.status.busy": "2022-08-18T17:34:29.005557Z",
          "iopub.status.idle": "2022-08-18T17:34:29.011905Z",
          "shell.execute_reply": "2022-08-18T17:34:29.011101Z",
          "shell.execute_reply.started": "2022-08-18T17:34:29.006005Z"
        },
        "colab": {
          "base_uri": "https://localhost:8080/"
        },
        "id": "L_GMU3Dx1WOJ",
        "outputId": "99f88f95-e025-4514-c6eb-13732047d8e9"
      },
      "outputs": [
        {
          "output_type": "execute_result",
          "data": {
            "text/plain": [
              "(199999, 8)"
            ]
          },
          "metadata": {},
          "execution_count": 13
        }
      ],
      "source": [
        "u_df.shape"
      ]
    },
    {
      "cell_type": "code",
      "execution_count": 14,
      "metadata": {
        "execution": {
          "iopub.execute_input": "2022-08-18T17:34:29.014276Z",
          "iopub.status.busy": "2022-08-18T17:34:29.013673Z",
          "iopub.status.idle": "2022-08-18T17:34:29.023590Z",
          "shell.execute_reply": "2022-08-18T17:34:29.022588Z",
          "shell.execute_reply.started": "2022-08-18T17:34:29.014243Z"
        },
        "colab": {
          "base_uri": "https://localhost:8080/"
        },
        "id": "H6T3asgk1WOJ",
        "outputId": "157b8828-8716-4b78-d3f6-d694635ac16c"
      },
      "outputs": [
        {
          "output_type": "execute_result",
          "data": {
            "text/plain": [
              "Index(['fare_amount', 'pickup_longitude', 'pickup_latitude',\n",
              "       'dropoff_longitude', 'dropoff_latitude', 'passenger_count', 'month',\n",
              "       'hour'],\n",
              "      dtype='object')"
            ]
          },
          "metadata": {},
          "execution_count": 14
        }
      ],
      "source": [
        "u_df.columns"
      ]
    },
    {
      "cell_type": "code",
      "execution_count": 15,
      "metadata": {
        "execution": {
          "iopub.execute_input": "2022-08-18T17:34:29.025837Z",
          "iopub.status.busy": "2022-08-18T17:34:29.024944Z",
          "iopub.status.idle": "2022-08-18T17:34:29.045012Z",
          "shell.execute_reply": "2022-08-18T17:34:29.044103Z",
          "shell.execute_reply.started": "2022-08-18T17:34:29.025803Z"
        },
        "colab": {
          "base_uri": "https://localhost:8080/",
          "height": 206
        },
        "id": "38Emk6dG1WOJ",
        "outputId": "bc3566b7-8836-44b7-d3b6-60187adb2b66"
      },
      "outputs": [
        {
          "output_type": "execute_result",
          "data": {
            "text/plain": [
              "   fare_amount  pickup_longitude  pickup_latitude  dropoff_longitude  \\\n",
              "0          7.5        -73.999817        40.738354         -73.999512   \n",
              "1          7.7        -73.994355        40.728225         -73.994710   \n",
              "2         12.9        -74.005043        40.740770         -73.962565   \n",
              "3          5.3        -73.976124        40.790844         -73.965316   \n",
              "4         16.0        -73.925023        40.744085         -73.973082   \n",
              "\n",
              "   dropoff_latitude  passenger_count month hour  \n",
              "0         40.723217                1    05   19  \n",
              "1         40.750325                1    07   20  \n",
              "2         40.772647                1    08   21  \n",
              "3         40.803349                3    06   08  \n",
              "4         40.761247                5    08   17  "
            ],
            "text/html": [
              "\n",
              "  <div id=\"df-fa53cca4-cc23-4b34-a5e3-717962be71db\">\n",
              "    <div class=\"colab-df-container\">\n",
              "      <div>\n",
              "<style scoped>\n",
              "    .dataframe tbody tr th:only-of-type {\n",
              "        vertical-align: middle;\n",
              "    }\n",
              "\n",
              "    .dataframe tbody tr th {\n",
              "        vertical-align: top;\n",
              "    }\n",
              "\n",
              "    .dataframe thead th {\n",
              "        text-align: right;\n",
              "    }\n",
              "</style>\n",
              "<table border=\"1\" class=\"dataframe\">\n",
              "  <thead>\n",
              "    <tr style=\"text-align: right;\">\n",
              "      <th></th>\n",
              "      <th>fare_amount</th>\n",
              "      <th>pickup_longitude</th>\n",
              "      <th>pickup_latitude</th>\n",
              "      <th>dropoff_longitude</th>\n",
              "      <th>dropoff_latitude</th>\n",
              "      <th>passenger_count</th>\n",
              "      <th>month</th>\n",
              "      <th>hour</th>\n",
              "    </tr>\n",
              "  </thead>\n",
              "  <tbody>\n",
              "    <tr>\n",
              "      <th>0</th>\n",
              "      <td>7.5</td>\n",
              "      <td>-73.999817</td>\n",
              "      <td>40.738354</td>\n",
              "      <td>-73.999512</td>\n",
              "      <td>40.723217</td>\n",
              "      <td>1</td>\n",
              "      <td>05</td>\n",
              "      <td>19</td>\n",
              "    </tr>\n",
              "    <tr>\n",
              "      <th>1</th>\n",
              "      <td>7.7</td>\n",
              "      <td>-73.994355</td>\n",
              "      <td>40.728225</td>\n",
              "      <td>-73.994710</td>\n",
              "      <td>40.750325</td>\n",
              "      <td>1</td>\n",
              "      <td>07</td>\n",
              "      <td>20</td>\n",
              "    </tr>\n",
              "    <tr>\n",
              "      <th>2</th>\n",
              "      <td>12.9</td>\n",
              "      <td>-74.005043</td>\n",
              "      <td>40.740770</td>\n",
              "      <td>-73.962565</td>\n",
              "      <td>40.772647</td>\n",
              "      <td>1</td>\n",
              "      <td>08</td>\n",
              "      <td>21</td>\n",
              "    </tr>\n",
              "    <tr>\n",
              "      <th>3</th>\n",
              "      <td>5.3</td>\n",
              "      <td>-73.976124</td>\n",
              "      <td>40.790844</td>\n",
              "      <td>-73.965316</td>\n",
              "      <td>40.803349</td>\n",
              "      <td>3</td>\n",
              "      <td>06</td>\n",
              "      <td>08</td>\n",
              "    </tr>\n",
              "    <tr>\n",
              "      <th>4</th>\n",
              "      <td>16.0</td>\n",
              "      <td>-73.925023</td>\n",
              "      <td>40.744085</td>\n",
              "      <td>-73.973082</td>\n",
              "      <td>40.761247</td>\n",
              "      <td>5</td>\n",
              "      <td>08</td>\n",
              "      <td>17</td>\n",
              "    </tr>\n",
              "  </tbody>\n",
              "</table>\n",
              "</div>\n",
              "      <button class=\"colab-df-convert\" onclick=\"convertToInteractive('df-fa53cca4-cc23-4b34-a5e3-717962be71db')\"\n",
              "              title=\"Convert this dataframe to an interactive table.\"\n",
              "              style=\"display:none;\">\n",
              "        \n",
              "  <svg xmlns=\"http://www.w3.org/2000/svg\" height=\"24px\"viewBox=\"0 0 24 24\"\n",
              "       width=\"24px\">\n",
              "    <path d=\"M0 0h24v24H0V0z\" fill=\"none\"/>\n",
              "    <path d=\"M18.56 5.44l.94 2.06.94-2.06 2.06-.94-2.06-.94-.94-2.06-.94 2.06-2.06.94zm-11 1L8.5 8.5l.94-2.06 2.06-.94-2.06-.94L8.5 2.5l-.94 2.06-2.06.94zm10 10l.94 2.06.94-2.06 2.06-.94-2.06-.94-.94-2.06-.94 2.06-2.06.94z\"/><path d=\"M17.41 7.96l-1.37-1.37c-.4-.4-.92-.59-1.43-.59-.52 0-1.04.2-1.43.59L10.3 9.45l-7.72 7.72c-.78.78-.78 2.05 0 2.83L4 21.41c.39.39.9.59 1.41.59.51 0 1.02-.2 1.41-.59l7.78-7.78 2.81-2.81c.8-.78.8-2.07 0-2.86zM5.41 20L4 18.59l7.72-7.72 1.47 1.35L5.41 20z\"/>\n",
              "  </svg>\n",
              "      </button>\n",
              "      \n",
              "  <style>\n",
              "    .colab-df-container {\n",
              "      display:flex;\n",
              "      flex-wrap:wrap;\n",
              "      gap: 12px;\n",
              "    }\n",
              "\n",
              "    .colab-df-convert {\n",
              "      background-color: #E8F0FE;\n",
              "      border: none;\n",
              "      border-radius: 50%;\n",
              "      cursor: pointer;\n",
              "      display: none;\n",
              "      fill: #1967D2;\n",
              "      height: 32px;\n",
              "      padding: 0 0 0 0;\n",
              "      width: 32px;\n",
              "    }\n",
              "\n",
              "    .colab-df-convert:hover {\n",
              "      background-color: #E2EBFA;\n",
              "      box-shadow: 0px 1px 2px rgba(60, 64, 67, 0.3), 0px 1px 3px 1px rgba(60, 64, 67, 0.15);\n",
              "      fill: #174EA6;\n",
              "    }\n",
              "\n",
              "    [theme=dark] .colab-df-convert {\n",
              "      background-color: #3B4455;\n",
              "      fill: #D2E3FC;\n",
              "    }\n",
              "\n",
              "    [theme=dark] .colab-df-convert:hover {\n",
              "      background-color: #434B5C;\n",
              "      box-shadow: 0px 1px 3px 1px rgba(0, 0, 0, 0.15);\n",
              "      filter: drop-shadow(0px 1px 2px rgba(0, 0, 0, 0.3));\n",
              "      fill: #FFFFFF;\n",
              "    }\n",
              "  </style>\n",
              "\n",
              "      <script>\n",
              "        const buttonEl =\n",
              "          document.querySelector('#df-fa53cca4-cc23-4b34-a5e3-717962be71db button.colab-df-convert');\n",
              "        buttonEl.style.display =\n",
              "          google.colab.kernel.accessAllowed ? 'block' : 'none';\n",
              "\n",
              "        async function convertToInteractive(key) {\n",
              "          const element = document.querySelector('#df-fa53cca4-cc23-4b34-a5e3-717962be71db');\n",
              "          const dataTable =\n",
              "            await google.colab.kernel.invokeFunction('convertToInteractive',\n",
              "                                                     [key], {});\n",
              "          if (!dataTable) return;\n",
              "\n",
              "          const docLinkHtml = 'Like what you see? Visit the ' +\n",
              "            '<a target=\"_blank\" href=https://colab.research.google.com/notebooks/data_table.ipynb>data table notebook</a>'\n",
              "            + ' to learn more about interactive tables.';\n",
              "          element.innerHTML = '';\n",
              "          dataTable['output_type'] = 'display_data';\n",
              "          await google.colab.output.renderOutput(dataTable, element);\n",
              "          const docLink = document.createElement('div');\n",
              "          docLink.innerHTML = docLinkHtml;\n",
              "          element.appendChild(docLink);\n",
              "        }\n",
              "      </script>\n",
              "    </div>\n",
              "  </div>\n",
              "  "
            ]
          },
          "metadata": {},
          "execution_count": 15
        }
      ],
      "source": [
        "u_df.head()"
      ]
    },
    {
      "cell_type": "markdown",
      "metadata": {
        "id": "c98osAau1WOJ"
      },
      "source": [
        "# Step 2 : Outlier Detection"
      ]
    },
    {
      "cell_type": "code",
      "execution_count": 16,
      "metadata": {
        "execution": {
          "iopub.execute_input": "2022-08-18T17:34:29.047115Z",
          "iopub.status.busy": "2022-08-18T17:34:29.046036Z",
          "iopub.status.idle": "2022-08-18T17:34:29.551994Z",
          "shell.execute_reply": "2022-08-18T17:34:29.550561Z",
          "shell.execute_reply.started": "2022-08-18T17:34:29.047078Z"
        },
        "id": "9Ua2Yo9V1WOJ"
      },
      "outputs": [],
      "source": [
        "import seaborn as sns\n",
        "from matplotlib.cbook import boxplot_stats  "
      ]
    },
    {
      "cell_type": "code",
      "execution_count": 17,
      "metadata": {
        "execution": {
          "iopub.execute_input": "2022-08-18T17:34:29.554270Z",
          "iopub.status.busy": "2022-08-18T17:34:29.553545Z",
          "iopub.status.idle": "2022-08-18T17:34:29.768064Z",
          "shell.execute_reply": "2022-08-18T17:34:29.767123Z",
          "shell.execute_reply.started": "2022-08-18T17:34:29.554225Z"
        },
        "colab": {
          "base_uri": "https://localhost:8080/",
          "height": 0
        },
        "id": "A6joirRy1WOK",
        "outputId": "8788f74f-5d6a-44e4-af06-dc65282b19cd"
      },
      "outputs": [
        {
          "output_type": "stream",
          "name": "stderr",
          "text": [
            "/usr/local/lib/python3.7/dist-packages/seaborn/_decorators.py:43: FutureWarning: Pass the following variable as a keyword arg: x. From version 0.12, the only valid positional argument will be `data`, and passing other arguments without an explicit keyword will result in an error or misinterpretation.\n",
            "  FutureWarning\n"
          ]
        },
        {
          "output_type": "stream",
          "name": "stdout",
          "text": [
            "[-52.  -52.  -50.5 ... 275.  350.  499. ]\n",
            "17166\n"
          ]
        },
        {
          "output_type": "display_data",
          "data": {
            "text/plain": [
              "<Figure size 432x288 with 1 Axes>"
            ],
            "image/png": "[encoded data removed]"
          },
          "metadata": {
            "needs_background": "light"
          }
        }
      ],
      "source": [
        "#Outliers for Fare Amount\n",
        "fare_amt_outliers = boxplot_stats(u_df.fare_amount)[0]['fliers']\n",
        "fare_amt_outliers.sort()\n",
        "sns.boxplot(u_df['fare_amount'])\n",
        "print(fare_amt_outliers)\n",
        "print(len(fare_amt_outliers))"
      ]
    },
    {
      "cell_type": "code",
      "execution_count": 18,
      "metadata": {
        "execution": {
          "iopub.execute_input": "2022-08-18T17:34:29.770072Z",
          "iopub.status.busy": "2022-08-18T17:34:29.769223Z",
          "iopub.status.idle": "2022-08-18T17:34:29.802320Z",
          "shell.execute_reply": "2022-08-18T17:34:29.801205Z",
          "shell.execute_reply.started": "2022-08-18T17:34:29.770037Z"
        },
        "id": "j1ryq87i1WOK"
      },
      "outputs": [],
      "source": [
        "#remove outliers for fare amount\n",
        "Q1 = u_df['fare_amount'].quantile(0.25)\n",
        "Q3 = u_df['fare_amount'].quantile(0.75)\n",
        "IQR = Q3 - Q1  \n",
        "filter = (u_df['fare_amount'] >= Q1 - 1.5 * IQR) & (u_df['fare_amount'] <= Q3 + 1.5 *IQR)\n",
        "cln_df = u_df.loc[filter]"
      ]
    },
    {
      "cell_type": "code",
      "execution_count": 19,
      "metadata": {
        "execution": {
          "iopub.execute_input": "2022-08-18T17:34:29.804370Z",
          "iopub.status.busy": "2022-08-18T17:34:29.803749Z",
          "iopub.status.idle": "2022-08-18T17:34:29.810528Z",
          "shell.execute_reply": "2022-08-18T17:34:29.809651Z",
          "shell.execute_reply.started": "2022-08-18T17:34:29.804335Z"
        },
        "colab": {
          "base_uri": "https://localhost:8080/"
        },
        "id": "lOHrBGD41WOK",
        "outputId": "3e417af6-bc76-4530-9288-9ab6c0537876"
      },
      "outputs": [
        {
          "output_type": "execute_result",
          "data": {
            "text/plain": [
              "(182833, 8)"
            ]
          },
          "metadata": {},
          "execution_count": 19
        }
      ],
      "source": [
        "cln_df.shape"
      ]
    },
    {
      "cell_type": "code",
      "execution_count": 20,
      "metadata": {
        "execution": {
          "iopub.execute_input": "2022-08-18T17:34:29.812660Z",
          "iopub.status.busy": "2022-08-18T17:34:29.812064Z",
          "iopub.status.idle": "2022-08-18T17:34:29.947495Z",
          "shell.execute_reply": "2022-08-18T17:34:29.946389Z",
          "shell.execute_reply.started": "2022-08-18T17:34:29.812604Z"
        },
        "colab": {
          "base_uri": "https://localhost:8080/"
        },
        "id": "Y78RKowJ1WOK",
        "outputId": "7433ad6f-a511-446b-b811-08b5489599dc"
      },
      "outputs": [
        {
          "output_type": "stream",
          "name": "stdout",
          "text": [
            "6\n",
            "4\n",
            "3\n",
            "3\n"
          ]
        }
      ],
      "source": [
        "#Outliers for latitudes and longitudes\n",
        "#Any value out of [-90, 90] and [-180,180] will be invalid\n",
        "def find_latitude_outliers(series):\n",
        "    ans = []\n",
        "    for i in series:\n",
        "        if(i<-90 or i>90):\n",
        "            ans.append(i)\n",
        "    return ans\n",
        "\n",
        "def find_longitude_outliers(series):\n",
        "    ans = []\n",
        "    for i in series:\n",
        "        if(i<-180 or i>180):\n",
        "            ans.append(i)\n",
        "    return ans\n",
        "\n",
        "\n",
        "pickup_longitude_outliers = find_longitude_outliers(cln_df['pickup_longitude'])\n",
        "pickup_latitude_outliers = find_latitude_outliers(cln_df['pickup_latitude'])\n",
        "dropoff_longitude_outliers = find_longitude_outliers(cln_df['dropoff_longitude'])\n",
        "dropoff_latitude_outliers = find_latitude_outliers(cln_df['dropoff_latitude'])\n",
        "\n",
        "print(len(pickup_longitude_outliers))\n",
        "print(len(pickup_latitude_outliers))\n",
        "print(len(dropoff_longitude_outliers))\n",
        "print(len(dropoff_latitude_outliers))"
      ]
    },
    {
      "cell_type": "code",
      "execution_count": 21,
      "metadata": {
        "execution": {
          "iopub.execute_input": "2022-08-18T17:34:29.949246Z",
          "iopub.status.busy": "2022-08-18T17:34:29.948848Z",
          "iopub.status.idle": "2022-08-18T17:34:30.164921Z",
          "shell.execute_reply": "2022-08-18T17:34:30.163759Z",
          "shell.execute_reply.started": "2022-08-18T17:34:29.949211Z"
        },
        "colab": {
          "base_uri": "https://localhost:8080/",
          "height": 0
        },
        "id": "kJLe8IyK1WOK",
        "outputId": "a34c5e14-f6c0-414b-adee-100f59ef38c2"
      },
      "outputs": [
        {
          "output_type": "stream",
          "name": "stdout",
          "text": [
            "[  4   4   4 ...   6   6 208]\n",
            "22557\n"
          ]
        },
        {
          "output_type": "stream",
          "name": "stderr",
          "text": [
            "/usr/local/lib/python3.7/dist-packages/seaborn/_decorators.py:43: FutureWarning: Pass the following variable as a keyword arg: x. From version 0.12, the only valid positional argument will be `data`, and passing other arguments without an explicit keyword will result in an error or misinterpretation.\n",
            "  FutureWarning\n"
          ]
        },
        {
          "output_type": "execute_result",
          "data": {
            "text/plain": [
              "(199998, 8)"
            ]
          },
          "metadata": {},
          "execution_count": 21
        },
        {
          "output_type": "display_data",
          "data": {
            "text/plain": [
              "<Figure size 432x288 with 1 Axes>"
            ],
            "image/png": "[encoded data removed]"
          },
          "metadata": {
            "needs_background": "light"
          }
        }
      ],
      "source": [
        "#Outliers for Passenger count \n",
        "passenger_count_outliers = boxplot_stats(u_df.passenger_count)[0]['fliers']\n",
        "passenger_count_outliers.sort()\n",
        "sns.boxplot(u_df['passenger_count'])\n",
        "print(passenger_count_outliers)\n",
        "print(len(passenger_count_outliers))\n",
        "\n",
        "filter = u_df['passenger_count']<=6\n",
        "u_df = u_df.loc[filter]\n",
        "u_df.shape"
      ]
    },
    {
      "cell_type": "code",
      "execution_count": 22,
      "metadata": {
        "execution": {
          "iopub.execute_input": "2022-08-18T17:34:30.167136Z",
          "iopub.status.busy": "2022-08-18T17:34:30.166696Z",
          "iopub.status.idle": "2022-08-18T17:34:30.203382Z",
          "shell.execute_reply": "2022-08-18T17:34:30.202228Z",
          "shell.execute_reply.started": "2022-08-18T17:34:30.167093Z"
        },
        "id": "L5GQl7t_1WOL"
      },
      "outputs": [],
      "source": [
        "correlation_matrix = u_df.corr()"
      ]
    },
    {
      "cell_type": "code",
      "execution_count": 23,
      "metadata": {
        "execution": {
          "iopub.execute_input": "2022-08-18T17:34:30.205994Z",
          "iopub.status.busy": "2022-08-18T17:34:30.205149Z",
          "iopub.status.idle": "2022-08-18T17:34:30.226611Z",
          "shell.execute_reply": "2022-08-18T17:34:30.225427Z",
          "shell.execute_reply.started": "2022-08-18T17:34:30.205931Z"
        },
        "colab": {
          "base_uri": "https://localhost:8080/",
          "height": 0
        },
        "id": "EkCZ2Xy91WOL",
        "outputId": "28e2e59a-f258-453b-fa14-74efa551b931"
      },
      "outputs": [
        {
          "output_type": "execute_result",
          "data": {
            "text/plain": [
              "                   fare_amount  pickup_longitude  pickup_latitude  \\\n",
              "fare_amount           1.000000          0.010458        -0.008482   \n",
              "pickup_longitude      0.010458          1.000000        -0.816461   \n",
              "pickup_latitude      -0.008482         -0.816461         1.000000   \n",
              "dropoff_longitude     0.008986          0.833026        -0.774787   \n",
              "dropoff_latitude     -0.011014         -0.846324         0.702367   \n",
              "passenger_count       0.010745         -0.000343        -0.001738   \n",
              "\n",
              "                   dropoff_longitude  dropoff_latitude  passenger_count  \n",
              "fare_amount                 0.008986         -0.011014         0.010745  \n",
              "pickup_longitude            0.833026         -0.846324        -0.000343  \n",
              "pickup_latitude            -0.774787          0.702367        -0.001738  \n",
              "dropoff_longitude           1.000000         -0.917010         0.000120  \n",
              "dropoff_latitude           -0.917010          1.000000        -0.000796  \n",
              "passenger_count             0.000120         -0.000796         1.000000  "
            ],
            "text/html": [
              "\n",
              "  <div id=\"df-beae9c1c-0cf7-4614-8d82-83f81978799b\">\n",
              "    <div class=\"colab-df-container\">\n",
              "      <div>\n",
              "<style scoped>\n",
              "    .dataframe tbody tr th:only-of-type {\n",
              "        vertical-align: middle;\n",
              "    }\n",
              "\n",
              "    .dataframe tbody tr th {\n",
              "        vertical-align: top;\n",
              "    }\n",
              "\n",
              "    .dataframe thead th {\n",
              "        text-align: right;\n",
              "    }\n",
              "</style>\n",
              "<table border=\"1\" class=\"dataframe\">\n",
              "  <thead>\n",
              "    <tr style=\"text-align: right;\">\n",
              "      <th></th>\n",
              "      <th>fare_amount</th>\n",
              "      <th>pickup_longitude</th>\n",
              "      <th>pickup_latitude</th>\n",
              "      <th>dropoff_longitude</th>\n",
              "      <th>dropoff_latitude</th>\n",
              "      <th>passenger_count</th>\n",
              "    </tr>\n",
              "  </thead>\n",
              "  <tbody>\n",
              "    <tr>\n",
              "      <th>fare_amount</th>\n",
              "      <td>1.000000</td>\n",
              "      <td>0.010458</td>\n",
              "      <td>-0.008482</td>\n",
              "      <td>0.008986</td>\n",
              "      <td>-0.011014</td>\n",
              "      <td>0.010745</td>\n",
              "    </tr>\n",
              "    <tr>\n",
              "      <th>pickup_longitude</th>\n",
              "      <td>0.010458</td>\n",
              "      <td>1.000000</td>\n",
              "      <td>-0.816461</td>\n",
              "      <td>0.833026</td>\n",
              "      <td>-0.846324</td>\n",
              "      <td>-0.000343</td>\n",
              "    </tr>\n",
              "    <tr>\n",
              "      <th>pickup_latitude</th>\n",
              "      <td>-0.008482</td>\n",
              "      <td>-0.816461</td>\n",
              "      <td>1.000000</td>\n",
              "      <td>-0.774787</td>\n",
              "      <td>0.702367</td>\n",
              "      <td>-0.001738</td>\n",
              "    </tr>\n",
              "    <tr>\n",
              "      <th>dropoff_longitude</th>\n",
              "      <td>0.008986</td>\n",
              "      <td>0.833026</td>\n",
              "      <td>-0.774787</td>\n",
              "      <td>1.000000</td>\n",
              "      <td>-0.917010</td>\n",
              "      <td>0.000120</td>\n",
              "    </tr>\n",
              "    <tr>\n",
              "      <th>dropoff_latitude</th>\n",
              "      <td>-0.011014</td>\n",
              "      <td>-0.846324</td>\n",
              "      <td>0.702367</td>\n",
              "      <td>-0.917010</td>\n",
              "      <td>1.000000</td>\n",
              "      <td>-0.000796</td>\n",
              "    </tr>\n",
              "    <tr>\n",
              "      <th>passenger_count</th>\n",
              "      <td>0.010745</td>\n",
              "      <td>-0.000343</td>\n",
              "      <td>-0.001738</td>\n",
              "      <td>0.000120</td>\n",
              "      <td>-0.000796</td>\n",
              "      <td>1.000000</td>\n",
              "    </tr>\n",
              "  </tbody>\n",
              "</table>\n",
              "</div>\n",
              "      <button class=\"colab-df-convert\" onclick=\"convertToInteractive('df-beae9c1c-0cf7-4614-8d82-83f81978799b')\"\n",
              "              title=\"Convert this dataframe to an interactive table.\"\n",
              "              style=\"display:none;\">\n",
              "        \n",
              "  <svg xmlns=\"http://www.w3.org/2000/svg\" height=\"24px\"viewBox=\"0 0 24 24\"\n",
              "       width=\"24px\">\n",
              "    <path d=\"M0 0h24v24H0V0z\" fill=\"none\"/>\n",
              "    <path d=\"M18.56 5.44l.94 2.06.94-2.06 2.06-.94-2.06-.94-.94-2.06-.94 2.06-2.06.94zm-11 1L8.5 8.5l.94-2.06 2.06-.94-2.06-.94L8.5 2.5l-.94 2.06-2.06.94zm10 10l.94 2.06.94-2.06 2.06-.94-2.06-.94-.94-2.06-.94 2.06-2.06.94z\"/><path d=\"M17.41 7.96l-1.37-1.37c-.4-.4-.92-.59-1.43-.59-.52 0-1.04.2-1.43.59L10.3 9.45l-7.72 7.72c-.78.78-.78 2.05 0 2.83L4 21.41c.39.39.9.59 1.41.59.51 0 1.02-.2 1.41-.59l7.78-7.78 2.81-2.81c.8-.78.8-2.07 0-2.86zM5.41 20L4 18.59l7.72-7.72 1.47 1.35L5.41 20z\"/>\n",
              "  </svg>\n",
              "      </button>\n",
              "      \n",
              "  <style>\n",
              "    .colab-df-container {\n",
              "      display:flex;\n",
              "      flex-wrap:wrap;\n",
              "      gap: 12px;\n",
              "    }\n",
              "\n",
              "    .colab-df-convert {\n",
              "      background-color: #E8F0FE;\n",
              "      border: none;\n",
              "      border-radius: 50%;\n",
              "      cursor: pointer;\n",
              "      display: none;\n",
              "      fill: #1967D2;\n",
              "      height: 32px;\n",
              "      padding: 0 0 0 0;\n",
              "      width: 32px;\n",
              "    }\n",
              "\n",
              "    .colab-df-convert:hover {\n",
              "      background-color: #E2EBFA;\n",
              "      box-shadow: 0px 1px 2px rgba(60, 64, 67, 0.3), 0px 1px 3px 1px rgba(60, 64, 67, 0.15);\n",
              "      fill: #174EA6;\n",
              "    }\n",
              "\n",
              "    [theme=dark] .colab-df-convert {\n",
              "      background-color: #3B4455;\n",
              "      fill: #D2E3FC;\n",
              "    }\n",
              "\n",
              "    [theme=dark] .colab-df-convert:hover {\n",
              "      background-color: #434B5C;\n",
              "      box-shadow: 0px 1px 3px 1px rgba(0, 0, 0, 0.15);\n",
              "      filter: drop-shadow(0px 1px 2px rgba(0, 0, 0, 0.3));\n",
              "      fill: #FFFFFF;\n",
              "    }\n",
              "  </style>\n",
              "\n",
              "      <script>\n",
              "        const buttonEl =\n",
              "          document.querySelector('#df-beae9c1c-0cf7-4614-8d82-83f81978799b button.colab-df-convert');\n",
              "        buttonEl.style.display =\n",
              "          google.colab.kernel.accessAllowed ? 'block' : 'none';\n",
              "\n",
              "        async function convertToInteractive(key) {\n",
              "          const element = document.querySelector('#df-beae9c1c-0cf7-4614-8d82-83f81978799b');\n",
              "          const dataTable =\n",
              "            await google.colab.kernel.invokeFunction('convertToInteractive',\n",
              "                                                     [key], {});\n",
              "          if (!dataTable) return;\n",
              "\n",
              "          const docLinkHtml = 'Like what you see? Visit the ' +\n",
              "            '<a target=\"_blank\" href=https://colab.research.google.com/notebooks/data_table.ipynb>data table notebook</a>'\n",
              "            + ' to learn more about interactive tables.';\n",
              "          element.innerHTML = '';\n",
              "          dataTable['output_type'] = 'display_data';\n",
              "          await google.colab.output.renderOutput(dataTable, element);\n",
              "          const docLink = document.createElement('div');\n",
              "          docLink.innerHTML = docLinkHtml;\n",
              "          element.appendChild(docLink);\n",
              "        }\n",
              "      </script>\n",
              "    </div>\n",
              "  </div>\n",
              "  "
            ]
          },
          "metadata": {},
          "execution_count": 23
        }
      ],
      "source": [
        "correlation_matrix"
      ]
    },
    {
      "cell_type": "code",
      "execution_count": 24,
      "metadata": {
        "execution": {
          "iopub.execute_input": "2022-08-18T17:34:30.228558Z",
          "iopub.status.busy": "2022-08-18T17:34:30.228141Z",
          "iopub.status.idle": "2022-08-18T17:34:30.522138Z",
          "shell.execute_reply": "2022-08-18T17:34:30.521038Z",
          "shell.execute_reply.started": "2022-08-18T17:34:30.228521Z"
        },
        "colab": {
          "base_uri": "https://localhost:8080/",
          "height": 0
        },
        "id": "tCalhr3j1WOL",
        "outputId": "4ddf0cec-ab30-41e9-bbfc-9f10d4644b53"
      },
      "outputs": [
        {
          "output_type": "execute_result",
          "data": {
            "text/plain": [
              "<matplotlib.axes._subplots.AxesSubplot at 0x7fdc48861a10>"
            ]
          },
          "metadata": {},
          "execution_count": 24
        },
        {
          "output_type": "display_data",
          "data": {
            "text/plain": [
              "<Figure size 432x288 with 2 Axes>"
            ],
            "image/png": "[encoded data removed]"
          },
          "metadata": {
            "needs_background": "light"
          }
        }
      ],
      "source": [
        "sns.heatmap(correlation_matrix)"
      ]
    },
    {
      "cell_type": "code",
      "execution_count": 25,
      "metadata": {
        "execution": {
          "iopub.execute_input": "2022-08-18T17:34:30.524147Z",
          "iopub.status.busy": "2022-08-18T17:34:30.523796Z",
          "iopub.status.idle": "2022-08-18T17:34:30.576994Z",
          "shell.execute_reply": "2022-08-18T17:34:30.575791Z",
          "shell.execute_reply.started": "2022-08-18T17:34:30.524115Z"
        },
        "id": "ry7XkaND1WOM"
      },
      "outputs": [],
      "source": [
        "convert_dict = {'month': int, 'hour':int}\n",
        "u_df = u_df.astype(convert_dict)"
      ]
    },
    {
      "cell_type": "code",
      "execution_count": 26,
      "metadata": {
        "execution": {
          "iopub.execute_input": "2022-08-18T17:34:30.579260Z",
          "iopub.status.busy": "2022-08-18T17:34:30.578384Z",
          "iopub.status.idle": "2022-08-18T17:34:30.646211Z",
          "shell.execute_reply": "2022-08-18T17:34:30.645333Z",
          "shell.execute_reply.started": "2022-08-18T17:34:30.579224Z"
        },
        "colab": {
          "base_uri": "https://localhost:8080/",
          "height": 0
        },
        "id": "icNfS2E21WOM",
        "outputId": "1a5706cf-8568-455e-d56e-40ce67c76555"
      },
      "outputs": [
        {
          "output_type": "execute_result",
          "data": {
            "text/plain": [
              "                   fare_amount  pickup_longitude  pickup_latitude  \\\n",
              "fare_amount           1.000000          0.010458        -0.008482   \n",
              "pickup_longitude      0.010458          1.000000        -0.816461   \n",
              "pickup_latitude      -0.008482         -0.816461         1.000000   \n",
              "dropoff_longitude     0.008986          0.833026        -0.774787   \n",
              "dropoff_latitude     -0.011014         -0.846324         0.702367   \n",
              "passenger_count       0.010745         -0.000343        -0.001738   \n",
              "month                 0.023812         -0.004664         0.004624   \n",
              "hour                 -0.021462          0.002431        -0.003821   \n",
              "\n",
              "                   dropoff_longitude  dropoff_latitude  passenger_count  \\\n",
              "fare_amount                 0.008986         -0.011014         0.010745   \n",
              "pickup_longitude            0.833026         -0.846324        -0.000343   \n",
              "pickup_latitude            -0.774787          0.702367        -0.001738   \n",
              "dropoff_longitude           1.000000         -0.917010         0.000120   \n",
              "dropoff_latitude           -0.917010          1.000000        -0.000796   \n",
              "passenger_count             0.000120         -0.000796         1.000000   \n",
              "month                      -0.003605          0.003817         0.009053   \n",
              "hour                        0.003477         -0.002544         0.014649   \n",
              "\n",
              "                      month      hour  \n",
              "fare_amount        0.023812 -0.021462  \n",
              "pickup_longitude  -0.004664  0.002431  \n",
              "pickup_latitude    0.004624 -0.003821  \n",
              "dropoff_longitude -0.003605  0.003477  \n",
              "dropoff_latitude   0.003817 -0.002544  \n",
              "passenger_count    0.009053  0.014649  \n",
              "month              1.000000 -0.003917  \n",
              "hour              -0.003917  1.000000  "
            ],
            "text/html": [
              "\n",
              "  <div id=\"df-34cb8f0d-e96e-4855-97ac-e592ec6e84a4\">\n",
              "    <div class=\"colab-df-container\">\n",
              "      <div>\n",
              "<style scoped>\n",
              "    .dataframe tbody tr th:only-of-type {\n",
              "        vertical-align: middle;\n",
              "    }\n",
              "\n",
              "    .dataframe tbody tr th {\n",
              "        vertical-align: top;\n",
              "    }\n",
              "\n",
              "    .dataframe thead th {\n",
              "        text-align: right;\n",
              "    }\n",
              "</style>\n",
              "<table border=\"1\" class=\"dataframe\">\n",
              "  <thead>\n",
              "    <tr style=\"text-align: right;\">\n",
              "      <th></th>\n",
              "      <th>fare_amount</th>\n",
              "      <th>pickup_longitude</th>\n",
              "      <th>pickup_latitude</th>\n",
              "      <th>dropoff_longitude</th>\n",
              "      <th>dropoff_latitude</th>\n",
              "      <th>passenger_count</th>\n",
              "      <th>month</th>\n",
              "      <th>hour</th>\n",
              "    </tr>\n",
              "  </thead>\n",
              "  <tbody>\n",
              "    <tr>\n",
              "      <th>fare_amount</th>\n",
              "      <td>1.000000</td>\n",
              "      <td>0.010458</td>\n",
              "      <td>-0.008482</td>\n",
              "      <td>0.008986</td>\n",
              "      <td>-0.011014</td>\n",
              "      <td>0.010745</td>\n",
              "      <td>0.023812</td>\n",
              "      <td>-0.021462</td>\n",
              "    </tr>\n",
              "    <tr>\n",
              "      <th>pickup_longitude</th>\n",
              "      <td>0.010458</td>\n",
              "      <td>1.000000</td>\n",
              "      <td>-0.816461</td>\n",
              "      <td>0.833026</td>\n",
              "      <td>-0.846324</td>\n",
              "      <td>-0.000343</td>\n",
              "      <td>-0.004664</td>\n",
              "      <td>0.002431</td>\n",
              "    </tr>\n",
              "    <tr>\n",
              "      <th>pickup_latitude</th>\n",
              "      <td>-0.008482</td>\n",
              "      <td>-0.816461</td>\n",
              "      <td>1.000000</td>\n",
              "      <td>-0.774787</td>\n",
              "      <td>0.702367</td>\n",
              "      <td>-0.001738</td>\n",
              "      <td>0.004624</td>\n",
              "      <td>-0.003821</td>\n",
              "    </tr>\n",
              "    <tr>\n",
              "      <th>dropoff_longitude</th>\n",
              "      <td>0.008986</td>\n",
              "      <td>0.833026</td>\n",
              "      <td>-0.774787</td>\n",
              "      <td>1.000000</td>\n",
              "      <td>-0.917010</td>\n",
              "      <td>0.000120</td>\n",
              "      <td>-0.003605</td>\n",
              "      <td>0.003477</td>\n",
              "    </tr>\n",
              "    <tr>\n",
              "      <th>dropoff_latitude</th>\n",
              "      <td>-0.011014</td>\n",
              "      <td>-0.846324</td>\n",
              "      <td>0.702367</td>\n",
              "      <td>-0.917010</td>\n",
              "      <td>1.000000</td>\n",
              "      <td>-0.000796</td>\n",
              "      <td>0.003817</td>\n",
              "      <td>-0.002544</td>\n",
              "    </tr>\n",
              "    <tr>\n",
              "      <th>passenger_count</th>\n",
              "      <td>0.010745</td>\n",
              "      <td>-0.000343</td>\n",
              "      <td>-0.001738</td>\n",
              "      <td>0.000120</td>\n",
              "      <td>-0.000796</td>\n",
              "      <td>1.000000</td>\n",
              "      <td>0.009053</td>\n",
              "      <td>0.014649</td>\n",
              "    </tr>\n",
              "    <tr>\n",
              "      <th>month</th>\n",
              "      <td>0.023812</td>\n",
              "      <td>-0.004664</td>\n",
              "      <td>0.004624</td>\n",
              "      <td>-0.003605</td>\n",
              "      <td>0.003817</td>\n",
              "      <td>0.009053</td>\n",
              "      <td>1.000000</td>\n",
              "      <td>-0.003917</td>\n",
              "    </tr>\n",
              "    <tr>\n",
              "      <th>hour</th>\n",
              "      <td>-0.021462</td>\n",
              "      <td>0.002431</td>\n",
              "      <td>-0.003821</td>\n",
              "      <td>0.003477</td>\n",
              "      <td>-0.002544</td>\n",
              "      <td>0.014649</td>\n",
              "      <td>-0.003917</td>\n",
              "      <td>1.000000</td>\n",
              "    </tr>\n",
              "  </tbody>\n",
              "</table>\n",
              "</div>\n",
              "      <button class=\"colab-df-convert\" onclick=\"convertToInteractive('df-34cb8f0d-e96e-4855-97ac-e592ec6e84a4')\"\n",
              "              title=\"Convert this dataframe to an interactive table.\"\n",
              "              style=\"display:none;\">\n",
              "        \n",
              "  <svg xmlns=\"http://www.w3.org/2000/svg\" height=\"24px\"viewBox=\"0 0 24 24\"\n",
              "       width=\"24px\">\n",
              "    <path d=\"M0 0h24v24H0V0z\" fill=\"none\"/>\n",
              "    <path d=\"M18.56 5.44l.94 2.06.94-2.06 2.06-.94-2.06-.94-.94-2.06-.94 2.06-2.06.94zm-11 1L8.5 8.5l.94-2.06 2.06-.94-2.06-.94L8.5 2.5l-.94 2.06-2.06.94zm10 10l.94 2.06.94-2.06 2.06-.94-2.06-.94-.94-2.06-.94 2.06-2.06.94z\"/><path d=\"M17.41 7.96l-1.37-1.37c-.4-.4-.92-.59-1.43-.59-.52 0-1.04.2-1.43.59L10.3 9.45l-7.72 7.72c-.78.78-.78 2.05 0 2.83L4 21.41c.39.39.9.59 1.41.59.51 0 1.02-.2 1.41-.59l7.78-7.78 2.81-2.81c.8-.78.8-2.07 0-2.86zM5.41 20L4 18.59l7.72-7.72 1.47 1.35L5.41 20z\"/>\n",
              "  </svg>\n",
              "      </button>\n",
              "      \n",
              "  <style>\n",
              "    .colab-df-container {\n",
              "      display:flex;\n",
              "      flex-wrap:wrap;\n",
              "      gap: 12px;\n",
              "    }\n",
              "\n",
              "    .colab-df-convert {\n",
              "      background-color: #E8F0FE;\n",
              "      border: none;\n",
              "      border-radius: 50%;\n",
              "      cursor: pointer;\n",
              "      display: none;\n",
              "      fill: #1967D2;\n",
              "      height: 32px;\n",
              "      padding: 0 0 0 0;\n",
              "      width: 32px;\n",
              "    }\n",
              "\n",
              "    .colab-df-convert:hover {\n",
              "      background-color: #E2EBFA;\n",
              "      box-shadow: 0px 1px 2px rgba(60, 64, 67, 0.3), 0px 1px 3px 1px rgba(60, 64, 67, 0.15);\n",
              "      fill: #174EA6;\n",
              "    }\n",
              "\n",
              "    [theme=dark] .colab-df-convert {\n",
              "      background-color: #3B4455;\n",
              "      fill: #D2E3FC;\n",
              "    }\n",
              "\n",
              "    [theme=dark] .colab-df-convert:hover {\n",
              "      background-color: #434B5C;\n",
              "      box-shadow: 0px 1px 3px 1px rgba(0, 0, 0, 0.15);\n",
              "      filter: drop-shadow(0px 1px 2px rgba(0, 0, 0, 0.3));\n",
              "      fill: #FFFFFF;\n",
              "    }\n",
              "  </style>\n",
              "\n",
              "      <script>\n",
              "        const buttonEl =\n",
              "          document.querySelector('#df-34cb8f0d-e96e-4855-97ac-e592ec6e84a4 button.colab-df-convert');\n",
              "        buttonEl.style.display =\n",
              "          google.colab.kernel.accessAllowed ? 'block' : 'none';\n",
              "\n",
              "        async function convertToInteractive(key) {\n",
              "          const element = document.querySelector('#df-34cb8f0d-e96e-4855-97ac-e592ec6e84a4');\n",
              "          const dataTable =\n",
              "            await google.colab.kernel.invokeFunction('convertToInteractive',\n",
              "                                                     [key], {});\n",
              "          if (!dataTable) return;\n",
              "\n",
              "          const docLinkHtml = 'Like what you see? Visit the ' +\n",
              "            '<a target=\"_blank\" href=https://colab.research.google.com/notebooks/data_table.ipynb>data table notebook</a>'\n",
              "            + ' to learn more about interactive tables.';\n",
              "          element.innerHTML = '';\n",
              "          dataTable['output_type'] = 'display_data';\n",
              "          await google.colab.output.renderOutput(dataTable, element);\n",
              "          const docLink = document.createElement('div');\n",
              "          docLink.innerHTML = docLinkHtml;\n",
              "          element.appendChild(docLink);\n",
              "        }\n",
              "      </script>\n",
              "    </div>\n",
              "  </div>\n",
              "  "
            ]
          },
          "metadata": {},
          "execution_count": 26
        }
      ],
      "source": [
        "correlation_matrix = u_df.corr()\n",
        "correlation_matrix"
      ]
    },
    {
      "cell_type": "code",
      "execution_count": 27,
      "metadata": {
        "execution": {
          "iopub.execute_input": "2022-08-18T17:34:30.647999Z",
          "iopub.status.busy": "2022-08-18T17:34:30.647373Z",
          "iopub.status.idle": "2022-08-18T17:34:30.958170Z",
          "shell.execute_reply": "2022-08-18T17:34:30.956966Z",
          "shell.execute_reply.started": "2022-08-18T17:34:30.647957Z"
        },
        "colab": {
          "base_uri": "https://localhost:8080/",
          "height": 0
        },
        "id": "0T6MDI-51WOM",
        "outputId": "f5cdc1bb-0721-48f4-cfa6-93c28bb6a48b"
      },
      "outputs": [
        {
          "output_type": "execute_result",
          "data": {
            "text/plain": [
              "<matplotlib.axes._subplots.AxesSubplot at 0x7fdc451aa910>"
            ]
          },
          "metadata": {},
          "execution_count": 27
        },
        {
          "output_type": "display_data",
          "data": {
            "text/plain": [
              "<Figure size 432x288 with 2 Axes>"
            ],
            "image/png": "[encoded data removed]"
          },
          "metadata": {
            "needs_background": "light"
          }
        }
      ],
      "source": [
        "sns.heatmap(correlation_matrix)"
      ]
    },
    {
      "cell_type": "markdown",
      "metadata": {
        "id": "d2W9Rp6s1WOM"
      },
      "source": [
        "# Step 3 : Split Dset"
      ]
    },
    {
      "cell_type": "code",
      "execution_count": 28,
      "metadata": {
        "execution": {
          "iopub.execute_input": "2022-08-18T17:34:30.960582Z",
          "iopub.status.busy": "2022-08-18T17:34:30.960157Z",
          "iopub.status.idle": "2022-08-18T17:34:30.974405Z",
          "shell.execute_reply": "2022-08-18T17:34:30.973109Z",
          "shell.execute_reply.started": "2022-08-18T17:34:30.960543Z"
        },
        "colab": {
          "base_uri": "https://localhost:8080/"
        },
        "id": "9KOETqog1WOM",
        "outputId": "324229ba-e2e9-47c5-9416-fb29453ef32a"
      },
      "outputs": [
        {
          "output_type": "stream",
          "name": "stdout",
          "text": [
            "(199998, 7) (199998,)\n"
          ]
        }
      ],
      "source": [
        "X = u_df.iloc[:, 1:]\n",
        "y = u_df.iloc[:, 0]\n",
        "print(X.shape, y.shape)"
      ]
    },
    {
      "cell_type": "code",
      "execution_count": 29,
      "metadata": {
        "execution": {
          "iopub.execute_input": "2022-08-18T17:34:30.976292Z",
          "iopub.status.busy": "2022-08-18T17:34:30.975885Z",
          "iopub.status.idle": "2022-08-18T17:34:31.074000Z",
          "shell.execute_reply": "2022-08-18T17:34:31.072663Z",
          "shell.execute_reply.started": "2022-08-18T17:34:30.976253Z"
        },
        "colab": {
          "base_uri": "https://localhost:8080/"
        },
        "id": "M63AEgY71WOM",
        "outputId": "0938bbcd-cdd5-48ff-9c8b-37728bb717ff"
      },
      "outputs": [
        {
          "output_type": "stream",
          "name": "stdout",
          "text": [
            "(169998, 7) (169998,) (30000, 7) (30000,)\n"
          ]
        }
      ],
      "source": [
        "from sklearn.model_selection import train_test_split\n",
        "X_train, X_test, y_train, y_test = train_test_split(X, y, test_size=0.15, random_state=42)\n",
        "print(X_train.shape, y_train.shape, X_test.shape, y_test.shape)"
      ]
    },
    {
      "cell_type": "markdown",
      "metadata": {
        "id": "FfrLG4ru1WOM"
      },
      "source": [
        "# Step 4 : Training and Testing"
      ]
    },
    {
      "cell_type": "code",
      "execution_count": 30,
      "metadata": {
        "execution": {
          "iopub.execute_input": "2022-08-18T17:34:31.076512Z",
          "iopub.status.busy": "2022-08-18T17:34:31.076014Z",
          "iopub.status.idle": "2022-08-18T17:34:31.138157Z",
          "shell.execute_reply": "2022-08-18T17:34:31.136718Z",
          "shell.execute_reply.started": "2022-08-18T17:34:31.076474Z"
        },
        "id": "5TSJ46xc1WON"
      },
      "outputs": [],
      "source": [
        "from sklearn.linear_model import LinearRegression\n",
        "reg = LinearRegression().fit(X_train, y_train)"
      ]
    },
    {
      "cell_type": "code",
      "execution_count": 31,
      "metadata": {
        "execution": {
          "iopub.execute_input": "2022-08-18T17:34:31.140998Z",
          "iopub.status.busy": "2022-08-18T17:34:31.139786Z",
          "iopub.status.idle": "2022-08-18T17:34:31.166494Z",
          "shell.execute_reply": "2022-08-18T17:34:31.164914Z",
          "shell.execute_reply.started": "2022-08-18T17:34:31.140952Z"
        },
        "colab": {
          "base_uri": "https://localhost:8080/"
        },
        "id": "IObJoiPx1WON",
        "outputId": "08d55242-52d9-41ee-f1a2-79e4d46d5bbd"
      },
      "outputs": [
        {
          "output_type": "execute_result",
          "data": {
            "text/plain": [
              "0.001143308423889433"
            ]
          },
          "metadata": {},
          "execution_count": 31
        }
      ],
      "source": [
        "reg.score(X_test, y_test)"
      ]
    },
    {
      "cell_type": "markdown",
      "metadata": {
        "id": "zmqvtHeB1WON"
      },
      "source": [
        "# Step 5 : Distance"
      ]
    },
    {
      "cell_type": "code",
      "execution_count": 32,
      "metadata": {
        "execution": {
          "iopub.execute_input": "2022-08-18T17:34:31.171208Z",
          "iopub.status.busy": "2022-08-18T17:34:31.168910Z",
          "iopub.status.idle": "2022-08-18T17:34:31.187261Z",
          "shell.execute_reply": "2022-08-18T17:34:31.185373Z",
          "shell.execute_reply.started": "2022-08-18T17:34:31.171146Z"
        },
        "id": "NWCku3oR1WON"
      },
      "outputs": [],
      "source": [
        "def haversine (lon_1, lon_2, lat_1, lat_2):\n",
        "    lon_1, lon_2, lat_1, lat_2 = map(np.radians, [lon_1, lon_2, lat_1, lat_2])\n",
        "    diff_lon = lon_2 - lon_1\n",
        "    diff_lat = lat_2 - lat_1\n",
        "    km = 2 * 6371 * np.arcsin(np.sqrt(np.sin(diff_lat/2.0)**2 + np.cos(lat_1) * np.cos(lat_2) * np.sin(diff_lon/2.0)**2))\n",
        "    return km"
      ]
    },
    {
      "cell_type": "code",
      "execution_count": 33,
      "metadata": {
        "execution": {
          "iopub.execute_input": "2022-08-18T17:34:31.193269Z",
          "iopub.status.busy": "2022-08-18T17:34:31.191221Z",
          "iopub.status.idle": "2022-08-18T17:34:31.257801Z",
          "shell.execute_reply": "2022-08-18T17:34:31.256356Z",
          "shell.execute_reply.started": "2022-08-18T17:34:31.192829Z"
        },
        "id": "BCDmRChV1WON"
      },
      "outputs": [],
      "source": [
        "u_df['distance']= haversine(u_df['pickup_longitude'],u_df['dropoff_longitude'],u_df['pickup_latitude'],u_df['dropoff_latitude'])"
      ]
    },
    {
      "cell_type": "code",
      "execution_count": 34,
      "metadata": {
        "execution": {
          "iopub.execute_input": "2022-08-18T17:34:31.260957Z",
          "iopub.status.busy": "2022-08-18T17:34:31.259562Z",
          "iopub.status.idle": "2022-08-18T17:34:31.279563Z",
          "shell.execute_reply": "2022-08-18T17:34:31.278365Z",
          "shell.execute_reply.started": "2022-08-18T17:34:31.260898Z"
        },
        "colab": {
          "base_uri": "https://localhost:8080/",
          "height": 0
        },
        "id": "NSqCGGGz1WON",
        "outputId": "7870baa8-2a45-4477-85fa-9ff3445332bf"
      },
      "outputs": [
        {
          "output_type": "execute_result",
          "data": {
            "text/plain": [
              "   fare_amount  pickup_longitude  pickup_latitude  dropoff_longitude  \\\n",
              "0          7.5        -73.999817        40.738354         -73.999512   \n",
              "1          7.7        -73.994355        40.728225         -73.994710   \n",
              "2         12.9        -74.005043        40.740770         -73.962565   \n",
              "3          5.3        -73.976124        40.790844         -73.965316   \n",
              "4         16.0        -73.925023        40.744085         -73.973082   \n",
              "\n",
              "   dropoff_latitude  passenger_count month hour  \n",
              "0         40.723217                1    05   19  \n",
              "1         40.750325                1    07   20  \n",
              "2         40.772647                1    08   21  \n",
              "3         40.803349                3    06   08  \n",
              "4         40.761247                5    08   17  "
            ],
            "text/html": [
              "\n",
              "  <div id=\"df-bad0a1c6-a97f-45dc-bedc-453f0df6e613\">\n",
              "    <div class=\"colab-df-container\">\n",
              "      <div>\n",
              "<style scoped>\n",
              "    .dataframe tbody tr th:only-of-type {\n",
              "        vertical-align: middle;\n",
              "    }\n",
              "\n",
              "    .dataframe tbody tr th {\n",
              "        vertical-align: top;\n",
              "    }\n",
              "\n",
              "    .dataframe thead th {\n",
              "        text-align: right;\n",
              "    }\n",
              "</style>\n",
              "<table border=\"1\" class=\"dataframe\">\n",
              "  <thead>\n",
              "    <tr style=\"text-align: right;\">\n",
              "      <th></th>\n",
              "      <th>fare_amount</th>\n",
              "      <th>pickup_longitude</th>\n",
              "      <th>pickup_latitude</th>\n",
              "      <th>dropoff_longitude</th>\n",
              "      <th>dropoff_latitude</th>\n",
              "      <th>passenger_count</th>\n",
              "      <th>month</th>\n",
              "      <th>hour</th>\n",
              "    </tr>\n",
              "  </thead>\n",
              "  <tbody>\n",
              "    <tr>\n",
              "      <th>0</th>\n",
              "      <td>7.5</td>\n",
              "      <td>-73.999817</td>\n",
              "      <td>40.738354</td>\n",
              "      <td>-73.999512</td>\n",
              "      <td>40.723217</td>\n",
              "      <td>1</td>\n",
              "      <td>05</td>\n",
              "      <td>19</td>\n",
              "    </tr>\n",
              "    <tr>\n",
              "      <th>1</th>\n",
              "      <td>7.7</td>\n",
              "      <td>-73.994355</td>\n",
              "      <td>40.728225</td>\n",
              "      <td>-73.994710</td>\n",
              "      <td>40.750325</td>\n",
              "      <td>1</td>\n",
              "      <td>07</td>\n",
              "      <td>20</td>\n",
              "    </tr>\n",
              "    <tr>\n",
              "      <th>2</th>\n",
              "      <td>12.9</td>\n",
              "      <td>-74.005043</td>\n",
              "      <td>40.740770</td>\n",
              "      <td>-73.962565</td>\n",
              "      <td>40.772647</td>\n",
              "      <td>1</td>\n",
              "      <td>08</td>\n",
              "      <td>21</td>\n",
              "    </tr>\n",
              "    <tr>\n",
              "      <th>3</th>\n",
              "      <td>5.3</td>\n",
              "      <td>-73.976124</td>\n",
              "      <td>40.790844</td>\n",
              "      <td>-73.965316</td>\n",
              "      <td>40.803349</td>\n",
              "      <td>3</td>\n",
              "      <td>06</td>\n",
              "      <td>08</td>\n",
              "    </tr>\n",
              "    <tr>\n",
              "      <th>4</th>\n",
              "      <td>16.0</td>\n",
              "      <td>-73.925023</td>\n",
              "      <td>40.744085</td>\n",
              "      <td>-73.973082</td>\n",
              "      <td>40.761247</td>\n",
              "      <td>5</td>\n",
              "      <td>08</td>\n",
              "      <td>17</td>\n",
              "    </tr>\n",
              "  </tbody>\n",
              "</table>\n",
              "</div>\n",
              "      <button class=\"colab-df-convert\" onclick=\"convertToInteractive('df-bad0a1c6-a97f-45dc-bedc-453f0df6e613')\"\n",
              "              title=\"Convert this dataframe to an interactive table.\"\n",
              "              style=\"display:none;\">\n",
              "        \n",
              "  <svg xmlns=\"http://www.w3.org/2000/svg\" height=\"24px\"viewBox=\"0 0 24 24\"\n",
              "       width=\"24px\">\n",
              "    <path d=\"M0 0h24v24H0V0z\" fill=\"none\"/>\n",
              "    <path d=\"M18.56 5.44l.94 2.06.94-2.06 2.06-.94-2.06-.94-.94-2.06-.94 2.06-2.06.94zm-11 1L8.5 8.5l.94-2.06 2.06-.94-2.06-.94L8.5 2.5l-.94 2.06-2.06.94zm10 10l.94 2.06.94-2.06 2.06-.94-2.06-.94-.94-2.06-.94 2.06-2.06.94z\"/><path d=\"M17.41 7.96l-1.37-1.37c-.4-.4-.92-.59-1.43-.59-.52 0-1.04.2-1.43.59L10.3 9.45l-7.72 7.72c-.78.78-.78 2.05 0 2.83L4 21.41c.39.39.9.59 1.41.59.51 0 1.02-.2 1.41-.59l7.78-7.78 2.81-2.81c.8-.78.8-2.07 0-2.86zM5.41 20L4 18.59l7.72-7.72 1.47 1.35L5.41 20z\"/>\n",
              "  </svg>\n",
              "      </button>\n",
              "      \n",
              "  <style>\n",
              "    .colab-df-container {\n",
              "      display:flex;\n",
              "      flex-wrap:wrap;\n",
              "      gap: 12px;\n",
              "    }\n",
              "\n",
              "    .colab-df-convert {\n",
              "      background-color: #E8F0FE;\n",
              "      border: none;\n",
              "      border-radius: 50%;\n",
              "      cursor: pointer;\n",
              "      display: none;\n",
              "      fill: #1967D2;\n",
              "      height: 32px;\n",
              "      padding: 0 0 0 0;\n",
              "      width: 32px;\n",
              "    }\n",
              "\n",
              "    .colab-df-convert:hover {\n",
              "      background-color: #E2EBFA;\n",
              "      box-shadow: 0px 1px 2px rgba(60, 64, 67, 0.3), 0px 1px 3px 1px rgba(60, 64, 67, 0.15);\n",
              "      fill: #174EA6;\n",
              "    }\n",
              "\n",
              "    [theme=dark] .colab-df-convert {\n",
              "      background-color: #3B4455;\n",
              "      fill: #D2E3FC;\n",
              "    }\n",
              "\n",
              "    [theme=dark] .colab-df-convert:hover {\n",
              "      background-color: #434B5C;\n",
              "      box-shadow: 0px 1px 3px 1px rgba(0, 0, 0, 0.15);\n",
              "      filter: drop-shadow(0px 1px 2px rgba(0, 0, 0, 0.3));\n",
              "      fill: #FFFFFF;\n",
              "    }\n",
              "  </style>\n",
              "\n",
              "      <script>\n",
              "        const buttonEl =\n",
              "          document.querySelector('#df-bad0a1c6-a97f-45dc-bedc-453f0df6e613 button.colab-df-convert');\n",
              "        buttonEl.style.display =\n",
              "          google.colab.kernel.accessAllowed ? 'block' : 'none';\n",
              "\n",
              "        async function convertToInteractive(key) {\n",
              "          const element = document.querySelector('#df-bad0a1c6-a97f-45dc-bedc-453f0df6e613');\n",
              "          const dataTable =\n",
              "            await google.colab.kernel.invokeFunction('convertToInteractive',\n",
              "                                                     [key], {});\n",
              "          if (!dataTable) return;\n",
              "\n",
              "          const docLinkHtml = 'Like what you see? Visit the ' +\n",
              "            '<a target=\"_blank\" href=https://colab.research.google.com/notebooks/data_table.ipynb>data table notebook</a>'\n",
              "            + ' to learn more about interactive tables.';\n",
              "          element.innerHTML = '';\n",
              "          dataTable['output_type'] = 'display_data';\n",
              "          await google.colab.output.renderOutput(dataTable, element);\n",
              "          const docLink = document.createElement('div');\n",
              "          docLink.innerHTML = docLinkHtml;\n",
              "          element.appendChild(docLink);\n",
              "        }\n",
              "      </script>\n",
              "    </div>\n",
              "  </div>\n",
              "  "
            ]
          },
          "metadata": {},
          "execution_count": 34
        }
      ],
      "source": [
        "cln_df.head()"
      ]
    },
    {
      "cell_type": "code",
      "execution_count": 35,
      "metadata": {
        "execution": {
          "iopub.execute_input": "2022-08-18T17:34:31.281619Z",
          "iopub.status.busy": "2022-08-18T17:34:31.281040Z",
          "iopub.status.idle": "2022-08-18T17:34:31.360748Z",
          "shell.execute_reply": "2022-08-18T17:34:31.359520Z",
          "shell.execute_reply.started": "2022-08-18T17:34:31.281574Z"
        },
        "colab": {
          "base_uri": "https://localhost:8080/",
          "height": 0
        },
        "id": "_HWf-bU01WON",
        "outputId": "c5c4eadd-c94d-4998-efd4-e1c1850296a7"
      },
      "outputs": [
        {
          "output_type": "execute_result",
          "data": {
            "text/plain": [
              "                   fare_amount  pickup_longitude  pickup_latitude  \\\n",
              "fare_amount           1.000000          0.010458        -0.008482   \n",
              "pickup_longitude      0.010458          1.000000        -0.816461   \n",
              "pickup_latitude      -0.008482         -0.816461         1.000000   \n",
              "dropoff_longitude     0.008986          0.833026        -0.774787   \n",
              "dropoff_latitude     -0.011014         -0.846324         0.702367   \n",
              "passenger_count       0.010745         -0.000343        -0.001738   \n",
              "month                 0.023812         -0.004664         0.004624   \n",
              "hour                 -0.021462          0.002431        -0.003821   \n",
              "distance              0.024684          0.105581        -0.062436   \n",
              "\n",
              "                   dropoff_longitude  dropoff_latitude  passenger_count  \\\n",
              "fare_amount                 0.008986         -0.011014         0.010745   \n",
              "pickup_longitude            0.833026         -0.846324        -0.000343   \n",
              "pickup_latitude            -0.774787          0.702367        -0.001738   \n",
              "dropoff_longitude           1.000000         -0.917010         0.000120   \n",
              "dropoff_latitude           -0.917010          1.000000        -0.000796   \n",
              "passenger_count             0.000120         -0.000796         1.000000   \n",
              "month                      -0.003605          0.003817         0.009053   \n",
              "hour                        0.003477         -0.002544         0.014649   \n",
              "distance                    0.056717         -0.079944        -0.001518   \n",
              "\n",
              "                      month      hour  distance  \n",
              "fare_amount        0.023812 -0.021462  0.024684  \n",
              "pickup_longitude  -0.004664  0.002431  0.105581  \n",
              "pickup_latitude    0.004624 -0.003821 -0.062436  \n",
              "dropoff_longitude -0.003605  0.003477  0.056717  \n",
              "dropoff_latitude   0.003817 -0.002544 -0.079944  \n",
              "passenger_count    0.009053  0.014649 -0.001518  \n",
              "month              1.000000 -0.003917 -0.000632  \n",
              "hour              -0.003917  1.000000 -0.000638  \n",
              "distance          -0.000632 -0.000638  1.000000  "
            ],
            "text/html": [
              "\n",
              "  <div id=\"df-6a3ee69f-dfeb-4e1f-b246-c3718f14498d\">\n",
              "    <div class=\"colab-df-container\">\n",
              "      <div>\n",
              "<style scoped>\n",
              "    .dataframe tbody tr th:only-of-type {\n",
              "        vertical-align: middle;\n",
              "    }\n",
              "\n",
              "    .dataframe tbody tr th {\n",
              "        vertical-align: top;\n",
              "    }\n",
              "\n",
              "    .dataframe thead th {\n",
              "        text-align: right;\n",
              "    }\n",
              "</style>\n",
              "<table border=\"1\" class=\"dataframe\">\n",
              "  <thead>\n",
              "    <tr style=\"text-align: right;\">\n",
              "      <th></th>\n",
              "      <th>fare_amount</th>\n",
              "      <th>pickup_longitude</th>\n",
              "      <th>pickup_latitude</th>\n",
              "      <th>dropoff_longitude</th>\n",
              "      <th>dropoff_latitude</th>\n",
              "      <th>passenger_count</th>\n",
              "      <th>month</th>\n",
              "      <th>hour</th>\n",
              "      <th>distance</th>\n",
              "    </tr>\n",
              "  </thead>\n",
              "  <tbody>\n",
              "    <tr>\n",
              "      <th>fare_amount</th>\n",
              "      <td>1.000000</td>\n",
              "      <td>0.010458</td>\n",
              "      <td>-0.008482</td>\n",
              "      <td>0.008986</td>\n",
              "      <td>-0.011014</td>\n",
              "      <td>0.010745</td>\n",
              "      <td>0.023812</td>\n",
              "      <td>-0.021462</td>\n",
              "      <td>0.024684</td>\n",
              "    </tr>\n",
              "    <tr>\n",
              "      <th>pickup_longitude</th>\n",
              "      <td>0.010458</td>\n",
              "      <td>1.000000</td>\n",
              "      <td>-0.816461</td>\n",
              "      <td>0.833026</td>\n",
              "      <td>-0.846324</td>\n",
              "      <td>-0.000343</td>\n",
              "      <td>-0.004664</td>\n",
              "      <td>0.002431</td>\n",
              "      <td>0.105581</td>\n",
              "    </tr>\n",
              "    <tr>\n",
              "      <th>pickup_latitude</th>\n",
              "      <td>-0.008482</td>\n",
              "      <td>-0.816461</td>\n",
              "      <td>1.000000</td>\n",
              "      <td>-0.774787</td>\n",
              "      <td>0.702367</td>\n",
              "      <td>-0.001738</td>\n",
              "      <td>0.004624</td>\n",
              "      <td>-0.003821</td>\n",
              "      <td>-0.062436</td>\n",
              "    </tr>\n",
              "    <tr>\n",
              "      <th>dropoff_longitude</th>\n",
              "      <td>0.008986</td>\n",
              "      <td>0.833026</td>\n",
              "      <td>-0.774787</td>\n",
              "      <td>1.000000</td>\n",
              "      <td>-0.917010</td>\n",
              "      <td>0.000120</td>\n",
              "      <td>-0.003605</td>\n",
              "      <td>0.003477</td>\n",
              "      <td>0.056717</td>\n",
              "    </tr>\n",
              "    <tr>\n",
              "      <th>dropoff_latitude</th>\n",
              "      <td>-0.011014</td>\n",
              "      <td>-0.846324</td>\n",
              "      <td>0.702367</td>\n",
              "      <td>-0.917010</td>\n",
              "      <td>1.000000</td>\n",
              "      <td>-0.000796</td>\n",
              "      <td>0.003817</td>\n",
              "      <td>-0.002544</td>\n",
              "      <td>-0.079944</td>\n",
              "    </tr>\n",
              "    <tr>\n",
              "      <th>passenger_count</th>\n",
              "      <td>0.010745</td>\n",
              "      <td>-0.000343</td>\n",
              "      <td>-0.001738</td>\n",
              "      <td>0.000120</td>\n",
              "      <td>-0.000796</td>\n",
              "      <td>1.000000</td>\n",
              "      <td>0.009053</td>\n",
              "      <td>0.014649</td>\n",
              "      <td>-0.001518</td>\n",
              "    </tr>\n",
              "    <tr>\n",
              "      <th>month</th>\n",
              "      <td>0.023812</td>\n",
              "      <td>-0.004664</td>\n",
              "      <td>0.004624</td>\n",
              "      <td>-0.003605</td>\n",
              "      <td>0.003817</td>\n",
              "      <td>0.009053</td>\n",
              "      <td>1.000000</td>\n",
              "      <td>-0.003917</td>\n",
              "      <td>-0.000632</td>\n",
              "    </tr>\n",
              "    <tr>\n",
              "      <th>hour</th>\n",
              "      <td>-0.021462</td>\n",
              "      <td>0.002431</td>\n",
              "      <td>-0.003821</td>\n",
              "      <td>0.003477</td>\n",
              "      <td>-0.002544</td>\n",
              "      <td>0.014649</td>\n",
              "      <td>-0.003917</td>\n",
              "      <td>1.000000</td>\n",
              "      <td>-0.000638</td>\n",
              "    </tr>\n",
              "    <tr>\n",
              "      <th>distance</th>\n",
              "      <td>0.024684</td>\n",
              "      <td>0.105581</td>\n",
              "      <td>-0.062436</td>\n",
              "      <td>0.056717</td>\n",
              "      <td>-0.079944</td>\n",
              "      <td>-0.001518</td>\n",
              "      <td>-0.000632</td>\n",
              "      <td>-0.000638</td>\n",
              "      <td>1.000000</td>\n",
              "    </tr>\n",
              "  </tbody>\n",
              "</table>\n",
              "</div>\n",
              "      <button class=\"colab-df-convert\" onclick=\"convertToInteractive('df-6a3ee69f-dfeb-4e1f-b246-c3718f14498d')\"\n",
              "              title=\"Convert this dataframe to an interactive table.\"\n",
              "              style=\"display:none;\">\n",
              "        \n",
              "  <svg xmlns=\"http://www.w3.org/2000/svg\" height=\"24px\"viewBox=\"0 0 24 24\"\n",
              "       width=\"24px\">\n",
              "    <path d=\"M0 0h24v24H0V0z\" fill=\"none\"/>\n",
              "    <path d=\"M18.56 5.44l.94 2.06.94-2.06 2.06-.94-2.06-.94-.94-2.06-.94 2.06-2.06.94zm-11 1L8.5 8.5l.94-2.06 2.06-.94-2.06-.94L8.5 2.5l-.94 2.06-2.06.94zm10 10l.94 2.06.94-2.06 2.06-.94-2.06-.94-.94-2.06-.94 2.06-2.06.94z\"/><path d=\"M17.41 7.96l-1.37-1.37c-.4-.4-.92-.59-1.43-.59-.52 0-1.04.2-1.43.59L10.3 9.45l-7.72 7.72c-.78.78-.78 2.05 0 2.83L4 21.41c.39.39.9.59 1.41.59.51 0 1.02-.2 1.41-.59l7.78-7.78 2.81-2.81c.8-.78.8-2.07 0-2.86zM5.41 20L4 18.59l7.72-7.72 1.47 1.35L5.41 20z\"/>\n",
              "  </svg>\n",
              "      </button>\n",
              "      \n",
              "  <style>\n",
              "    .colab-df-container {\n",
              "      display:flex;\n",
              "      flex-wrap:wrap;\n",
              "      gap: 12px;\n",
              "    }\n",
              "\n",
              "    .colab-df-convert {\n",
              "      background-color: #E8F0FE;\n",
              "      border: none;\n",
              "      border-radius: 50%;\n",
              "      cursor: pointer;\n",
              "      display: none;\n",
              "      fill: #1967D2;\n",
              "      height: 32px;\n",
              "      padding: 0 0 0 0;\n",
              "      width: 32px;\n",
              "    }\n",
              "\n",
              "    .colab-df-convert:hover {\n",
              "      background-color: #E2EBFA;\n",
              "      box-shadow: 0px 1px 2px rgba(60, 64, 67, 0.3), 0px 1px 3px 1px rgba(60, 64, 67, 0.15);\n",
              "      fill: #174EA6;\n",
              "    }\n",
              "\n",
              "    [theme=dark] .colab-df-convert {\n",
              "      background-color: #3B4455;\n",
              "      fill: #D2E3FC;\n",
              "    }\n",
              "\n",
              "    [theme=dark] .colab-df-convert:hover {\n",
              "      background-color: #434B5C;\n",
              "      box-shadow: 0px 1px 3px 1px rgba(0, 0, 0, 0.15);\n",
              "      filter: drop-shadow(0px 1px 2px rgba(0, 0, 0, 0.3));\n",
              "      fill: #FFFFFF;\n",
              "    }\n",
              "  </style>\n",
              "\n",
              "      <script>\n",
              "        const buttonEl =\n",
              "          document.querySelector('#df-6a3ee69f-dfeb-4e1f-b246-c3718f14498d button.colab-df-convert');\n",
              "        buttonEl.style.display =\n",
              "          google.colab.kernel.accessAllowed ? 'block' : 'none';\n",
              "\n",
              "        async function convertToInteractive(key) {\n",
              "          const element = document.querySelector('#df-6a3ee69f-dfeb-4e1f-b246-c3718f14498d');\n",
              "          const dataTable =\n",
              "            await google.colab.kernel.invokeFunction('convertToInteractive',\n",
              "                                                     [key], {});\n",
              "          if (!dataTable) return;\n",
              "\n",
              "          const docLinkHtml = 'Like what you see? Visit the ' +\n",
              "            '<a target=\"_blank\" href=https://colab.research.google.com/notebooks/data_table.ipynb>data table notebook</a>'\n",
              "            + ' to learn more about interactive tables.';\n",
              "          element.innerHTML = '';\n",
              "          dataTable['output_type'] = 'display_data';\n",
              "          await google.colab.output.renderOutput(dataTable, element);\n",
              "          const docLink = document.createElement('div');\n",
              "          docLink.innerHTML = docLinkHtml;\n",
              "          element.appendChild(docLink);\n",
              "        }\n",
              "      </script>\n",
              "    </div>\n",
              "  </div>\n",
              "  "
            ]
          },
          "metadata": {},
          "execution_count": 35
        }
      ],
      "source": [
        "correlation_matrix = u_df.corr()\n",
        "correlation_matrix"
      ]
    },
    {
      "cell_type": "code",
      "execution_count": 36,
      "metadata": {
        "execution": {
          "iopub.execute_input": "2022-08-18T17:34:31.362437Z",
          "iopub.status.busy": "2022-08-18T17:34:31.361888Z",
          "iopub.status.idle": "2022-08-18T17:34:31.688989Z",
          "shell.execute_reply": "2022-08-18T17:34:31.687786Z",
          "shell.execute_reply.started": "2022-08-18T17:34:31.362403Z"
        },
        "colab": {
          "base_uri": "https://localhost:8080/",
          "height": 0
        },
        "id": "NZXEIkoh1WON",
        "outputId": "aedc1257-674a-42cc-b5e2-5de7ff4fac80"
      },
      "outputs": [
        {
          "output_type": "execute_result",
          "data": {
            "text/plain": [
              "<matplotlib.axes._subplots.AxesSubplot at 0x7fdc45104c50>"
            ]
          },
          "metadata": {},
          "execution_count": 36
        },
        {
          "output_type": "display_data",
          "data": {
            "text/plain": [
              "<Figure size 432x288 with 2 Axes>"
            ],
            "image/png": "[encoded data removed]"
          },
          "metadata": {
            "needs_background": "light"
          }
        }
      ],
      "source": [
        "sns.heatmap(correlation_matrix)"
      ]
    },
    {
      "cell_type": "code",
      "execution_count": 37,
      "metadata": {
        "execution": {
          "iopub.execute_input": "2022-08-18T17:34:31.694376Z",
          "iopub.status.busy": "2022-08-18T17:34:31.690571Z",
          "iopub.status.idle": "2022-08-18T17:34:32.189410Z",
          "shell.execute_reply": "2022-08-18T17:34:32.187040Z",
          "shell.execute_reply.started": "2022-08-18T17:34:31.694335Z"
        },
        "colab": {
          "base_uri": "https://localhost:8080/",
          "height": 0
        },
        "id": "_FWzIlcd1WON",
        "outputId": "28cfcc56-1438-4560-e0e5-a44fd53adcba"
      },
      "outputs": [
        {
          "output_type": "execute_result",
          "data": {
            "text/plain": [
              "Text(0, 0.5, 'fare_amount')"
            ]
          },
          "metadata": {},
          "execution_count": 37
        },
        {
          "output_type": "display_data",
          "data": {
            "text/plain": [
              "<Figure size 432x288 with 1 Axes>"
            ],
            "image/png": "[encoded data removed]"
          },
          "metadata": {
            "needs_background": "light"
          }
        }
      ],
      "source": [
        "import matplotlib.pyplot as plt\n",
        "plt.scatter(u_df['distance'], u_df['fare_amount'])\n",
        "plt.xlabel(\"distance\")\n",
        "plt.ylabel(\"fare_amount\")"
      ]
    },
    {
      "cell_type": "code",
      "execution_count": 38,
      "metadata": {
        "execution": {
          "iopub.execute_input": "2022-08-18T17:34:32.191408Z",
          "iopub.status.busy": "2022-08-18T17:34:32.190912Z",
          "iopub.status.idle": "2022-08-18T17:34:32.369646Z",
          "shell.execute_reply": "2022-08-18T17:34:32.368501Z",
          "shell.execute_reply.started": "2022-08-18T17:34:32.191363Z"
        },
        "colab": {
          "base_uri": "https://localhost:8080/",
          "height": 0
        },
        "id": "tcoLK53C1WON",
        "outputId": "c09b182a-3e71-4c43-e5e6-9ddc2efcccbe"
      },
      "outputs": [
        {
          "output_type": "stream",
          "name": "stderr",
          "text": [
            "/usr/local/lib/python3.7/dist-packages/seaborn/_decorators.py:43: FutureWarning: Pass the following variable as a keyword arg: x. From version 0.12, the only valid positional argument will be `data`, and passing other arguments without an explicit keyword will result in an error or misinterpretation.\n",
            "  FutureWarning\n"
          ]
        },
        {
          "output_type": "stream",
          "name": "stdout",
          "text": [
            "[7.86514622e+00 7.86525018e+00 7.86563828e+00 ... 8.78289861e+03\n",
            " 1.03215077e+04 1.64092391e+04]\n",
            "16755\n"
          ]
        },
        {
          "output_type": "display_data",
          "data": {
            "text/plain": [
              "<Figure size 432x288 with 1 Axes>"
            ],
            "image/png": "[encoded data removed]"
          },
          "metadata": {
            "needs_background": "light"
          }
        }
      ],
      "source": [
        "#Outliers for Distance \n",
        "distance_outliers = boxplot_stats(u_df.distance)[0]['fliers']\n",
        "distance_outliers.sort()\n",
        "sns.boxplot(u_df['distance'])\n",
        "print(distance_outliers)\n",
        "print(len(distance_outliers))"
      ]
    },
    {
      "cell_type": "code",
      "execution_count": 39,
      "metadata": {
        "execution": {
          "iopub.execute_input": "2022-08-18T17:34:32.372181Z",
          "iopub.status.busy": "2022-08-18T17:34:32.371160Z",
          "iopub.status.idle": "2022-08-18T17:34:32.397612Z",
          "shell.execute_reply": "2022-08-18T17:34:32.396357Z",
          "shell.execute_reply.started": "2022-08-18T17:34:32.372147Z"
        },
        "colab": {
          "base_uri": "https://localhost:8080/"
        },
        "id": "rkkhRsJ91WON",
        "outputId": "5a0430c3-abf3-4a56-d178-d4f4e8d16d6f"
      },
      "outputs": [
        {
          "output_type": "execute_result",
          "data": {
            "text/plain": [
              "(193869, 9)"
            ]
          },
          "metadata": {},
          "execution_count": 39
        }
      ],
      "source": [
        "filter = (u_df['distance']<=50) & (u_df['distance']>0)\n",
        "u_df = u_df.loc[filter]\n",
        "u_df.shape"
      ]
    },
    {
      "cell_type": "code",
      "execution_count": 40,
      "metadata": {
        "execution": {
          "iopub.execute_input": "2022-08-18T17:34:32.405175Z",
          "iopub.status.busy": "2022-08-18T17:34:32.404784Z",
          "iopub.status.idle": "2022-08-18T17:34:32.850906Z",
          "shell.execute_reply": "2022-08-18T17:34:32.849710Z",
          "shell.execute_reply.started": "2022-08-18T17:34:32.405142Z"
        },
        "colab": {
          "base_uri": "https://localhost:8080/",
          "height": 0
        },
        "id": "jvT60_A_1WOO",
        "outputId": "0dab80a0-aaa4-4de0-d2b1-2c8282b54959"
      },
      "outputs": [
        {
          "output_type": "execute_result",
          "data": {
            "text/plain": [
              "Text(0, 0.5, 'fare_amount')"
            ]
          },
          "metadata": {},
          "execution_count": 40
        },
        {
          "output_type": "display_data",
          "data": {
            "text/plain": [
              "<Figure size 432x288 with 1 Axes>"
            ],
            "image/png": "[encoded data removed]"
          },
          "metadata": {
            "needs_background": "light"
          }
        }
      ],
      "source": [
        "plt.scatter(u_df['distance'], u_df['fare_amount'])\n",
        "plt.xlabel(\"distance\")\n",
        "plt.ylabel(\"fare_amount\")"
      ]
    },
    {
      "cell_type": "code",
      "execution_count": 41,
      "metadata": {
        "execution": {
          "iopub.execute_input": "2022-08-18T17:34:32.853161Z",
          "iopub.status.busy": "2022-08-18T17:34:32.852365Z",
          "iopub.status.idle": "2022-08-18T17:34:32.918541Z",
          "shell.execute_reply": "2022-08-18T17:34:32.917699Z",
          "shell.execute_reply.started": "2022-08-18T17:34:32.853114Z"
        },
        "colab": {
          "base_uri": "https://localhost:8080/",
          "height": 0
        },
        "id": "waXRc86L1WOO",
        "outputId": "9358c1c8-9c3a-4baa-de5e-a54048c00aa5"
      },
      "outputs": [
        {
          "output_type": "execute_result",
          "data": {
            "text/plain": [
              "                   fare_amount  pickup_longitude  pickup_latitude  \\\n",
              "fare_amount           1.000000          0.011765        -0.008399   \n",
              "pickup_longitude      0.011765          1.000000        -0.949096   \n",
              "pickup_latitude      -0.008399         -0.949096         1.000000   \n",
              "dropoff_longitude     0.010305          0.999884        -0.949093   \n",
              "dropoff_latitude     -0.008422         -0.993972         0.954760   \n",
              "passenger_count       0.012871          0.009754        -0.009814   \n",
              "month                 0.024284         -0.007485         0.007592   \n",
              "hour                 -0.020924          0.001843        -0.001821   \n",
              "distance              0.868087          0.005356         0.003199   \n",
              "\n",
              "                   dropoff_longitude  dropoff_latitude  passenger_count  \\\n",
              "fare_amount                 0.010305         -0.008422         0.012871   \n",
              "pickup_longitude            0.999884         -0.993972         0.009754   \n",
              "pickup_latitude            -0.949093          0.954760        -0.009814   \n",
              "dropoff_longitude           1.000000         -0.993959         0.009746   \n",
              "dropoff_latitude           -0.993959          1.000000        -0.009865   \n",
              "passenger_count             0.009746         -0.009865         1.000000   \n",
              "month                      -0.007441          0.007969         0.009229   \n",
              "hour                        0.000945         -0.001018         0.014889   \n",
              "distance                    0.004441         -0.002170         0.009118   \n",
              "\n",
              "                      month      hour  distance  \n",
              "fare_amount        0.024284 -0.020924  0.868087  \n",
              "pickup_longitude  -0.007485  0.001843  0.005356  \n",
              "pickup_latitude    0.007592 -0.001821  0.003199  \n",
              "dropoff_longitude -0.007441  0.000945  0.004441  \n",
              "dropoff_latitude   0.007969 -0.001018 -0.002170  \n",
              "passenger_count    0.009229  0.014889  0.009118  \n",
              "month              1.000000 -0.004189  0.012044  \n",
              "hour              -0.004189  1.000000 -0.032255  \n",
              "distance           0.012044 -0.032255  1.000000  "
            ],
            "text/html": [
              "\n",
              "  <div id=\"df-34ede267-ec49-43d5-b41d-2c95754a6b75\">\n",
              "    <div class=\"colab-df-container\">\n",
              "      <div>\n",
              "<style scoped>\n",
              "    .dataframe tbody tr th:only-of-type {\n",
              "        vertical-align: middle;\n",
              "    }\n",
              "\n",
              "    .dataframe tbody tr th {\n",
              "        vertical-align: top;\n",
              "    }\n",
              "\n",
              "    .dataframe thead th {\n",
              "        text-align: right;\n",
              "    }\n",
              "</style>\n",
              "<table border=\"1\" class=\"dataframe\">\n",
              "  <thead>\n",
              "    <tr style=\"text-align: right;\">\n",
              "      <th></th>\n",
              "      <th>fare_amount</th>\n",
              "      <th>pickup_longitude</th>\n",
              "      <th>pickup_latitude</th>\n",
              "      <th>dropoff_longitude</th>\n",
              "      <th>dropoff_latitude</th>\n",
              "      <th>passenger_count</th>\n",
              "      <th>month</th>\n",
              "      <th>hour</th>\n",
              "      <th>distance</th>\n",
              "    </tr>\n",
              "  </thead>\n",
              "  <tbody>\n",
              "    <tr>\n",
              "      <th>fare_amount</th>\n",
              "      <td>1.000000</td>\n",
              "      <td>0.011765</td>\n",
              "      <td>-0.008399</td>\n",
              "      <td>0.010305</td>\n",
              "      <td>-0.008422</td>\n",
              "      <td>0.012871</td>\n",
              "      <td>0.024284</td>\n",
              "      <td>-0.020924</td>\n",
              "      <td>0.868087</td>\n",
              "    </tr>\n",
              "    <tr>\n",
              "      <th>pickup_longitude</th>\n",
              "      <td>0.011765</td>\n",
              "      <td>1.000000</td>\n",
              "      <td>-0.949096</td>\n",
              "      <td>0.999884</td>\n",
              "      <td>-0.993972</td>\n",
              "      <td>0.009754</td>\n",
              "      <td>-0.007485</td>\n",
              "      <td>0.001843</td>\n",
              "      <td>0.005356</td>\n",
              "    </tr>\n",
              "    <tr>\n",
              "      <th>pickup_latitude</th>\n",
              "      <td>-0.008399</td>\n",
              "      <td>-0.949096</td>\n",
              "      <td>1.000000</td>\n",
              "      <td>-0.949093</td>\n",
              "      <td>0.954760</td>\n",
              "      <td>-0.009814</td>\n",
              "      <td>0.007592</td>\n",
              "      <td>-0.001821</td>\n",
              "      <td>0.003199</td>\n",
              "    </tr>\n",
              "    <tr>\n",
              "      <th>dropoff_longitude</th>\n",
              "      <td>0.010305</td>\n",
              "      <td>0.999884</td>\n",
              "      <td>-0.949093</td>\n",
              "      <td>1.000000</td>\n",
              "      <td>-0.993959</td>\n",
              "      <td>0.009746</td>\n",
              "      <td>-0.007441</td>\n",
              "      <td>0.000945</td>\n",
              "      <td>0.004441</td>\n",
              "    </tr>\n",
              "    <tr>\n",
              "      <th>dropoff_latitude</th>\n",
              "      <td>-0.008422</td>\n",
              "      <td>-0.993972</td>\n",
              "      <td>0.954760</td>\n",
              "      <td>-0.993959</td>\n",
              "      <td>1.000000</td>\n",
              "      <td>-0.009865</td>\n",
              "      <td>0.007969</td>\n",
              "      <td>-0.001018</td>\n",
              "      <td>-0.002170</td>\n",
              "    </tr>\n",
              "    <tr>\n",
              "      <th>passenger_count</th>\n",
              "      <td>0.012871</td>\n",
              "      <td>0.009754</td>\n",
              "      <td>-0.009814</td>\n",
              "      <td>0.009746</td>\n",
              "      <td>-0.009865</td>\n",
              "      <td>1.000000</td>\n",
              "      <td>0.009229</td>\n",
              "      <td>0.014889</td>\n",
              "      <td>0.009118</td>\n",
              "    </tr>\n",
              "    <tr>\n",
              "      <th>month</th>\n",
              "      <td>0.024284</td>\n",
              "      <td>-0.007485</td>\n",
              "      <td>0.007592</td>\n",
              "      <td>-0.007441</td>\n",
              "      <td>0.007969</td>\n",
              "      <td>0.009229</td>\n",
              "      <td>1.000000</td>\n",
              "      <td>-0.004189</td>\n",
              "      <td>0.012044</td>\n",
              "    </tr>\n",
              "    <tr>\n",
              "      <th>hour</th>\n",
              "      <td>-0.020924</td>\n",
              "      <td>0.001843</td>\n",
              "      <td>-0.001821</td>\n",
              "      <td>0.000945</td>\n",
              "      <td>-0.001018</td>\n",
              "      <td>0.014889</td>\n",
              "      <td>-0.004189</td>\n",
              "      <td>1.000000</td>\n",
              "      <td>-0.032255</td>\n",
              "    </tr>\n",
              "    <tr>\n",
              "      <th>distance</th>\n",
              "      <td>0.868087</td>\n",
              "      <td>0.005356</td>\n",
              "      <td>0.003199</td>\n",
              "      <td>0.004441</td>\n",
              "      <td>-0.002170</td>\n",
              "      <td>0.009118</td>\n",
              "      <td>0.012044</td>\n",
              "      <td>-0.032255</td>\n",
              "      <td>1.000000</td>\n",
              "    </tr>\n",
              "  </tbody>\n",
              "</table>\n",
              "</div>\n",
              "      <button class=\"colab-df-convert\" onclick=\"convertToInteractive('df-34ede267-ec49-43d5-b41d-2c95754a6b75')\"\n",
              "              title=\"Convert this dataframe to an interactive table.\"\n",
              "              style=\"display:none;\">\n",
              "        \n",
              "  <svg xmlns=\"http://www.w3.org/2000/svg\" height=\"24px\"viewBox=\"0 0 24 24\"\n",
              "       width=\"24px\">\n",
              "    <path d=\"M0 0h24v24H0V0z\" fill=\"none\"/>\n",
              "    <path d=\"M18.56 5.44l.94 2.06.94-2.06 2.06-.94-2.06-.94-.94-2.06-.94 2.06-2.06.94zm-11 1L8.5 8.5l.94-2.06 2.06-.94-2.06-.94L8.5 2.5l-.94 2.06-2.06.94zm10 10l.94 2.06.94-2.06 2.06-.94-2.06-.94-.94-2.06-.94 2.06-2.06.94z\"/><path d=\"M17.41 7.96l-1.37-1.37c-.4-.4-.92-.59-1.43-.59-.52 0-1.04.2-1.43.59L10.3 9.45l-7.72 7.72c-.78.78-.78 2.05 0 2.83L4 21.41c.39.39.9.59 1.41.59.51 0 1.02-.2 1.41-.59l7.78-7.78 2.81-2.81c.8-.78.8-2.07 0-2.86zM5.41 20L4 18.59l7.72-7.72 1.47 1.35L5.41 20z\"/>\n",
              "  </svg>\n",
              "      </button>\n",
              "      \n",
              "  <style>\n",
              "    .colab-df-container {\n",
              "      display:flex;\n",
              "      flex-wrap:wrap;\n",
              "      gap: 12px;\n",
              "    }\n",
              "\n",
              "    .colab-df-convert {\n",
              "      background-color: #E8F0FE;\n",
              "      border: none;\n",
              "      border-radius: 50%;\n",
              "      cursor: pointer;\n",
              "      display: none;\n",
              "      fill: #1967D2;\n",
              "      height: 32px;\n",
              "      padding: 0 0 0 0;\n",
              "      width: 32px;\n",
              "    }\n",
              "\n",
              "    .colab-df-convert:hover {\n",
              "      background-color: #E2EBFA;\n",
              "      box-shadow: 0px 1px 2px rgba(60, 64, 67, 0.3), 0px 1px 3px 1px rgba(60, 64, 67, 0.15);\n",
              "      fill: #174EA6;\n",
              "    }\n",
              "\n",
              "    [theme=dark] .colab-df-convert {\n",
              "      background-color: #3B4455;\n",
              "      fill: #D2E3FC;\n",
              "    }\n",
              "\n",
              "    [theme=dark] .colab-df-convert:hover {\n",
              "      background-color: #434B5C;\n",
              "      box-shadow: 0px 1px 3px 1px rgba(0, 0, 0, 0.15);\n",
              "      filter: drop-shadow(0px 1px 2px rgba(0, 0, 0, 0.3));\n",
              "      fill: #FFFFFF;\n",
              "    }\n",
              "  </style>\n",
              "\n",
              "      <script>\n",
              "        const buttonEl =\n",
              "          document.querySelector('#df-34ede267-ec49-43d5-b41d-2c95754a6b75 button.colab-df-convert');\n",
              "        buttonEl.style.display =\n",
              "          google.colab.kernel.accessAllowed ? 'block' : 'none';\n",
              "\n",
              "        async function convertToInteractive(key) {\n",
              "          const element = document.querySelector('#df-34ede267-ec49-43d5-b41d-2c95754a6b75');\n",
              "          const dataTable =\n",
              "            await google.colab.kernel.invokeFunction('convertToInteractive',\n",
              "                                                     [key], {});\n",
              "          if (!dataTable) return;\n",
              "\n",
              "          const docLinkHtml = 'Like what you see? Visit the ' +\n",
              "            '<a target=\"_blank\" href=https://colab.research.google.com/notebooks/data_table.ipynb>data table notebook</a>'\n",
              "            + ' to learn more about interactive tables.';\n",
              "          element.innerHTML = '';\n",
              "          dataTable['output_type'] = 'display_data';\n",
              "          await google.colab.output.renderOutput(dataTable, element);\n",
              "          const docLink = document.createElement('div');\n",
              "          docLink.innerHTML = docLinkHtml;\n",
              "          element.appendChild(docLink);\n",
              "        }\n",
              "      </script>\n",
              "    </div>\n",
              "  </div>\n",
              "  "
            ]
          },
          "metadata": {},
          "execution_count": 41
        }
      ],
      "source": [
        "correlation_matrix = u_df.corr()\n",
        "correlation_matrix"
      ]
    },
    {
      "cell_type": "code",
      "execution_count": 42,
      "metadata": {
        "execution": {
          "iopub.execute_input": "2022-08-18T17:34:32.920519Z",
          "iopub.status.busy": "2022-08-18T17:34:32.919582Z",
          "iopub.status.idle": "2022-08-18T17:34:33.206418Z",
          "shell.execute_reply": "2022-08-18T17:34:33.205131Z",
          "shell.execute_reply.started": "2022-08-18T17:34:32.920486Z"
        },
        "colab": {
          "base_uri": "https://localhost:8080/",
          "height": 0
        },
        "id": "bo0n0CTD1WOO",
        "outputId": "58aee76d-5e1e-4a74-d69c-36e800143da9"
      },
      "outputs": [
        {
          "output_type": "execute_result",
          "data": {
            "text/plain": [
              "<matplotlib.axes._subplots.AxesSubplot at 0x7fdc44185e90>"
            ]
          },
          "metadata": {},
          "execution_count": 42
        },
        {
          "output_type": "display_data",
          "data": {
            "text/plain": [
              "<Figure size 432x288 with 2 Axes>"
            ],
            "image/png": "[encoded data removed]"
          },
          "metadata": {
            "needs_background": "light"
          }
        }
      ],
      "source": [
        "sns.heatmap(correlation_matrix)"
      ]
    },
    {
      "cell_type": "markdown",
      "metadata": {
        "id": "3MJaT3Zw1WOO"
      },
      "source": [
        "# Step 6 : Splitting and Training again"
      ]
    },
    {
      "cell_type": "code",
      "execution_count": 43,
      "metadata": {
        "execution": {
          "iopub.execute_input": "2022-08-18T17:35:22.083928Z",
          "iopub.status.busy": "2022-08-18T17:35:22.083256Z",
          "iopub.status.idle": "2022-08-18T17:35:22.093781Z",
          "shell.execute_reply": "2022-08-18T17:35:22.092484Z",
          "shell.execute_reply.started": "2022-08-18T17:35:22.083882Z"
        },
        "colab": {
          "base_uri": "https://localhost:8080/"
        },
        "id": "zNIdAh8T1WOO",
        "outputId": "8bf4caa7-caa6-46f5-836b-24f63ee432a9"
      },
      "outputs": [
        {
          "output_type": "stream",
          "name": "stdout",
          "text": [
            "(193869, 8) (193869,)\n"
          ]
        }
      ],
      "source": [
        "X = u_df.iloc[:, 1:]\n",
        "y = u_df.iloc[:, 0]\n",
        "print(X.shape, y.shape)"
      ]
    },
    {
      "cell_type": "code",
      "execution_count": 44,
      "metadata": {
        "execution": {
          "iopub.execute_input": "2022-08-18T18:05:06.746252Z",
          "iopub.status.busy": "2022-08-18T18:05:06.744787Z",
          "iopub.status.idle": "2022-08-18T18:05:06.782439Z",
          "shell.execute_reply": "2022-08-18T18:05:06.781144Z",
          "shell.execute_reply.started": "2022-08-18T18:05:06.746195Z"
        },
        "colab": {
          "base_uri": "https://localhost:8080/"
        },
        "id": "dKEODKpa1WOO",
        "outputId": "c5048c6b-e3dd-4bb0-b5c0-3f32f3bbca1c"
      },
      "outputs": [
        {
          "output_type": "stream",
          "name": "stdout",
          "text": [
            "(164788, 8) (164788,) (29081, 8) (29081,)\n"
          ]
        }
      ],
      "source": [
        "from sklearn.model_selection import train_test_split\n",
        "X_train, X_test, y_train, y_test = train_test_split(X, y, test_size=0.15, random_state=42)\n",
        "print(X_train.shape, y_train.shape, X_test.shape, y_test.shape)"
      ]
    },
    {
      "cell_type": "code",
      "execution_count": 45,
      "metadata": {
        "execution": {
          "iopub.execute_input": "2022-08-18T18:05:22.158211Z",
          "iopub.status.busy": "2022-08-18T18:05:22.157783Z",
          "iopub.status.idle": "2022-08-18T18:05:22.201540Z",
          "shell.execute_reply": "2022-08-18T18:05:22.200535Z",
          "shell.execute_reply.started": "2022-08-18T18:05:22.158177Z"
        },
        "id": "kaUenRHV1WOO"
      },
      "outputs": [],
      "source": [
        "from sklearn.linear_model import LinearRegression\n",
        "reg = LinearRegression().fit(X_train, y_train)"
      ]
    },
    {
      "cell_type": "code",
      "execution_count": 46,
      "metadata": {
        "execution": {
          "iopub.execute_input": "2022-08-18T18:05:33.367728Z",
          "iopub.status.busy": "2022-08-18T18:05:33.367317Z",
          "iopub.status.idle": "2022-08-18T18:05:33.380462Z",
          "shell.execute_reply": "2022-08-18T18:05:33.378720Z",
          "shell.execute_reply.started": "2022-08-18T18:05:33.367694Z"
        },
        "colab": {
          "base_uri": "https://localhost:8080/"
        },
        "id": "F9lTskdD1WOO",
        "outputId": "14b6e1dc-ec99-4036-935f-20ec1bce6e7a"
      },
      "outputs": [
        {
          "output_type": "execute_result",
          "data": {
            "text/plain": [
              "0.7746788382772513"
            ]
          },
          "metadata": {},
          "execution_count": 46
        }
      ],
      "source": [
        "reg.score(X_test, y_test)"
      ]
    },
    {
      "cell_type": "markdown",
      "metadata": {
        "id": "N8OZez_p1WOO"
      },
      "source": [
        "## Good performance."
      ]
    }
  ],
  "metadata": {
    "kernelspec": {
      "display_name": "Python 3",
      "language": "python",
      "name": "python3"
    },
    "language_info": {
      "codemirror_mode": {
        "name": "ipython",
        "version": 3
      },
      "file_extension": ".py",
      "mimetype": "text/x-python",
      "name": "python",
      "nbconvert_exporter": "python",
      "pygments_lexer": "ipython3",
      "version": "3.8.5"
    },
    "colab": {
      "provenance": []
    }
  },
  "nbformat": 4,
  "nbformat_minor": 0
}