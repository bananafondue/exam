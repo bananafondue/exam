{
  "metadata": {
    "kernelspec": {
      "language": "python",
      "display_name": "Python 3",
      "name": "python3"
    },
    "language_info": {
      "name": "python",
      "version": "3.7.12",
      "mimetype": "text/x-python",
      "codemirror_mode": {
        "name": "ipython",
        "version": 3
      },
      "pygments_lexer": "ipython3",
      "nbconvert_exporter": "python",
      "file_extension": ".py"
    },
    "colab": {
      "provenance": []
    }
  },
  "nbformat_minor": 0,
  "nbformat": 4,
  "cells": [
    {
      "cell_type": "markdown",
      "source": [
        "# Assignment 5 : "
      ],
      "metadata": {
        "id": "mKcitTlAOgaJ"
      }
    },
    {
      "cell_type": "code",
      "source": [
        "import pandas as pd\n",
        "import numpy as np\n",
        "import matplotlib.pyplot as plt"
      ],
      "metadata": {
        "_uuid": "8f2839f25d086af736a60e9eeb907d3b93b6e0e5",
        "_cell_guid": "b1076dfc-b9ad-4769-8c92-a6c4dae69d19",
        "execution": {
          "iopub.status.busy": "2022-11-03T07:23:19.008650Z",
          "iopub.execute_input": "2022-11-03T07:23:19.009027Z",
          "iopub.status.idle": "2022-11-03T07:23:19.034387Z",
          "shell.execute_reply.started": "2022-11-03T07:23:19.008953Z",
          "shell.execute_reply": "2022-11-03T07:23:19.033821Z"
        },
        "trusted": true,
        "id": "6ekRXU0xKAWe"
      },
      "execution_count": null,
      "outputs": []
    },
    {
      "cell_type": "code",
      "source": [
        "df = pd.read_csv(\"sample_data.csv\", encoding='Latin-1')\n",
        "df.head()"
      ],
      "metadata": {
        "execution": {
          "iopub.status.busy": "2022-11-03T07:23:19.035527Z",
          "iopub.execute_input": "2022-11-03T07:23:19.035947Z",
          "iopub.status.idle": "2022-11-03T07:23:19.105110Z",
          "shell.execute_reply.started": "2022-11-03T07:23:19.035924Z",
          "shell.execute_reply": "2022-11-03T07:23:19.104292Z"
        },
        "trusted": true,
        "colab": {
          "base_uri": "https://localhost:8080/",
          "height": 346
        },
        "id": "kbqZbTs8KAWh",
        "outputId": "7fb17a15-b37b-4a7d-a862-462224ed2fec"
      },
      "execution_count": null,
      "outputs": [
        {
          "output_type": "error",
          "ename": "FileNotFoundError",
          "evalue": "ignored",
          "traceback": [
            "\u001b[0;31m---------------------------------------------------------------------------\u001b[0m",
            "\u001b[0;31mFileNotFoundError\u001b[0m                         Traceback (most recent call last)",
            "\u001b[0;32m<ipython-input-6-a97a8fc888fe>\u001b[0m in \u001b[0;36m<module>\u001b[0;34m\u001b[0m\n\u001b[0;32m----> 1\u001b[0;31m \u001b[0mdf\u001b[0m \u001b[0;34m=\u001b[0m \u001b[0mpd\u001b[0m\u001b[0;34m.\u001b[0m\u001b[0mread_csv\u001b[0m\u001b[0;34m(\u001b[0m\u001b[0;34m\"sample_data.csv\"\u001b[0m\u001b[0;34m,\u001b[0m \u001b[0mencoding\u001b[0m\u001b[0;34m=\u001b[0m\u001b[0;34m'Latin-1'\u001b[0m\u001b[0;34m)\u001b[0m\u001b[0;34m\u001b[0m\u001b[0;34m\u001b[0m\u001b[0m\n\u001b[0m\u001b[1;32m      2\u001b[0m \u001b[0mdf\u001b[0m\u001b[0;34m.\u001b[0m\u001b[0mhead\u001b[0m\u001b[0;34m(\u001b[0m\u001b[0;34m)\u001b[0m\u001b[0;34m\u001b[0m\u001b[0;34m\u001b[0m\u001b[0m\n",
            "\u001b[0;32m/usr/local/lib/python3.7/dist-packages/pandas/util/_decorators.py\u001b[0m in \u001b[0;36mwrapper\u001b[0;34m(*args, **kwargs)\u001b[0m\n\u001b[1;32m    309\u001b[0m                     \u001b[0mstacklevel\u001b[0m\u001b[0;34m=\u001b[0m\u001b[0mstacklevel\u001b[0m\u001b[0;34m,\u001b[0m\u001b[0;34m\u001b[0m\u001b[0;34m\u001b[0m\u001b[0m\n\u001b[1;32m    310\u001b[0m                 )\n\u001b[0;32m--> 311\u001b[0;31m             \u001b[0;32mreturn\u001b[0m \u001b[0mfunc\u001b[0m\u001b[0;34m(\u001b[0m\u001b[0;34m*\u001b[0m\u001b[0margs\u001b[0m\u001b[0;34m,\u001b[0m \u001b[0;34m**\u001b[0m\u001b[0mkwargs\u001b[0m\u001b[0;34m)\u001b[0m\u001b[0;34m\u001b[0m\u001b[0;34m\u001b[0m\u001b[0m\n\u001b[0m\u001b[1;32m    312\u001b[0m \u001b[0;34m\u001b[0m\u001b[0m\n\u001b[1;32m    313\u001b[0m         \u001b[0;32mreturn\u001b[0m \u001b[0mwrapper\u001b[0m\u001b[0;34m\u001b[0m\u001b[0;34m\u001b[0m\u001b[0m\n",
            "\u001b[0;32m/usr/local/lib/python3.7/dist-packages/pandas/io/parsers/readers.py\u001b[0m in \u001b[0;36mread_csv\u001b[0;34m(filepath_or_buffer, sep, delimiter, header, names, index_col, usecols, squeeze, prefix, mangle_dupe_cols, dtype, engine, converters, true_values, false_values, skipinitialspace, skiprows, skipfooter, nrows, na_values, keep_default_na, na_filter, verbose, skip_blank_lines, parse_dates, infer_datetime_format, keep_date_col, date_parser, dayfirst, cache_dates, iterator, chunksize, compression, thousands, decimal, lineterminator, quotechar, quoting, doublequote, escapechar, comment, encoding, encoding_errors, dialect, error_bad_lines, warn_bad_lines, on_bad_lines, delim_whitespace, low_memory, memory_map, float_precision, storage_options)\u001b[0m\n\u001b[1;32m    584\u001b[0m     \u001b[0mkwds\u001b[0m\u001b[0;34m.\u001b[0m\u001b[0mupdate\u001b[0m\u001b[0;34m(\u001b[0m\u001b[0mkwds_defaults\u001b[0m\u001b[0;34m)\u001b[0m\u001b[0;34m\u001b[0m\u001b[0;34m\u001b[0m\u001b[0m\n\u001b[1;32m    585\u001b[0m \u001b[0;34m\u001b[0m\u001b[0m\n\u001b[0;32m--> 586\u001b[0;31m     \u001b[0;32mreturn\u001b[0m \u001b[0m_read\u001b[0m\u001b[0;34m(\u001b[0m\u001b[0mfilepath_or_buffer\u001b[0m\u001b[0;34m,\u001b[0m \u001b[0mkwds\u001b[0m\u001b[0;34m)\u001b[0m\u001b[0;34m\u001b[0m\u001b[0;34m\u001b[0m\u001b[0m\n\u001b[0m\u001b[1;32m    587\u001b[0m \u001b[0;34m\u001b[0m\u001b[0m\n\u001b[1;32m    588\u001b[0m \u001b[0;34m\u001b[0m\u001b[0m\n",
            "\u001b[0;32m/usr/local/lib/python3.7/dist-packages/pandas/io/parsers/readers.py\u001b[0m in \u001b[0;36m_read\u001b[0;34m(filepath_or_buffer, kwds)\u001b[0m\n\u001b[1;32m    480\u001b[0m \u001b[0;34m\u001b[0m\u001b[0m\n\u001b[1;32m    481\u001b[0m     \u001b[0;31m# Create the parser.\u001b[0m\u001b[0;34m\u001b[0m\u001b[0;34m\u001b[0m\u001b[0;34m\u001b[0m\u001b[0m\n\u001b[0;32m--> 482\u001b[0;31m     \u001b[0mparser\u001b[0m \u001b[0;34m=\u001b[0m \u001b[0mTextFileReader\u001b[0m\u001b[0;34m(\u001b[0m\u001b[0mfilepath_or_buffer\u001b[0m\u001b[0;34m,\u001b[0m \u001b[0;34m**\u001b[0m\u001b[0mkwds\u001b[0m\u001b[0;34m)\u001b[0m\u001b[0;34m\u001b[0m\u001b[0;34m\u001b[0m\u001b[0m\n\u001b[0m\u001b[1;32m    483\u001b[0m \u001b[0;34m\u001b[0m\u001b[0m\n\u001b[1;32m    484\u001b[0m     \u001b[0;32mif\u001b[0m \u001b[0mchunksize\u001b[0m \u001b[0;32mor\u001b[0m \u001b[0miterator\u001b[0m\u001b[0;34m:\u001b[0m\u001b[0;34m\u001b[0m\u001b[0;34m\u001b[0m\u001b[0m\n",
            "\u001b[0;32m/usr/local/lib/python3.7/dist-packages/pandas/io/parsers/readers.py\u001b[0m in \u001b[0;36m__init__\u001b[0;34m(self, f, engine, **kwds)\u001b[0m\n\u001b[1;32m    809\u001b[0m             \u001b[0mself\u001b[0m\u001b[0;34m.\u001b[0m\u001b[0moptions\u001b[0m\u001b[0;34m[\u001b[0m\u001b[0;34m\"has_index_names\"\u001b[0m\u001b[0;34m]\u001b[0m \u001b[0;34m=\u001b[0m \u001b[0mkwds\u001b[0m\u001b[0;34m[\u001b[0m\u001b[0;34m\"has_index_names\"\u001b[0m\u001b[0;34m]\u001b[0m\u001b[0;34m\u001b[0m\u001b[0;34m\u001b[0m\u001b[0m\n\u001b[1;32m    810\u001b[0m \u001b[0;34m\u001b[0m\u001b[0m\n\u001b[0;32m--> 811\u001b[0;31m         \u001b[0mself\u001b[0m\u001b[0;34m.\u001b[0m\u001b[0m_engine\u001b[0m \u001b[0;34m=\u001b[0m \u001b[0mself\u001b[0m\u001b[0;34m.\u001b[0m\u001b[0m_make_engine\u001b[0m\u001b[0;34m(\u001b[0m\u001b[0mself\u001b[0m\u001b[0;34m.\u001b[0m\u001b[0mengine\u001b[0m\u001b[0;34m)\u001b[0m\u001b[0;34m\u001b[0m\u001b[0;34m\u001b[0m\u001b[0m\n\u001b[0m\u001b[1;32m    812\u001b[0m \u001b[0;34m\u001b[0m\u001b[0m\n\u001b[1;32m    813\u001b[0m     \u001b[0;32mdef\u001b[0m \u001b[0mclose\u001b[0m\u001b[0;34m(\u001b[0m\u001b[0mself\u001b[0m\u001b[0;34m)\u001b[0m\u001b[0;34m:\u001b[0m\u001b[0;34m\u001b[0m\u001b[0;34m\u001b[0m\u001b[0m\n",
            "\u001b[0;32m/usr/local/lib/python3.7/dist-packages/pandas/io/parsers/readers.py\u001b[0m in \u001b[0;36m_make_engine\u001b[0;34m(self, engine)\u001b[0m\n\u001b[1;32m   1038\u001b[0m             )\n\u001b[1;32m   1039\u001b[0m         \u001b[0;31m# error: Too many arguments for \"ParserBase\"\u001b[0m\u001b[0;34m\u001b[0m\u001b[0;34m\u001b[0m\u001b[0;34m\u001b[0m\u001b[0m\n\u001b[0;32m-> 1040\u001b[0;31m         \u001b[0;32mreturn\u001b[0m \u001b[0mmapping\u001b[0m\u001b[0;34m[\u001b[0m\u001b[0mengine\u001b[0m\u001b[0;34m]\u001b[0m\u001b[0;34m(\u001b[0m\u001b[0mself\u001b[0m\u001b[0;34m.\u001b[0m\u001b[0mf\u001b[0m\u001b[0;34m,\u001b[0m \u001b[0;34m**\u001b[0m\u001b[0mself\u001b[0m\u001b[0;34m.\u001b[0m\u001b[0moptions\u001b[0m\u001b[0;34m)\u001b[0m  \u001b[0;31m# type: ignore[call-arg]\u001b[0m\u001b[0;34m\u001b[0m\u001b[0;34m\u001b[0m\u001b[0m\n\u001b[0m\u001b[1;32m   1041\u001b[0m \u001b[0;34m\u001b[0m\u001b[0m\n\u001b[1;32m   1042\u001b[0m     \u001b[0;32mdef\u001b[0m \u001b[0m_failover_to_python\u001b[0m\u001b[0;34m(\u001b[0m\u001b[0mself\u001b[0m\u001b[0;34m)\u001b[0m\u001b[0;34m:\u001b[0m\u001b[0;34m\u001b[0m\u001b[0;34m\u001b[0m\u001b[0m\n",
            "\u001b[0;32m/usr/local/lib/python3.7/dist-packages/pandas/io/parsers/c_parser_wrapper.py\u001b[0m in \u001b[0;36m__init__\u001b[0;34m(self, src, **kwds)\u001b[0m\n\u001b[1;32m     49\u001b[0m \u001b[0;34m\u001b[0m\u001b[0m\n\u001b[1;32m     50\u001b[0m         \u001b[0;31m# open handles\u001b[0m\u001b[0;34m\u001b[0m\u001b[0;34m\u001b[0m\u001b[0;34m\u001b[0m\u001b[0m\n\u001b[0;32m---> 51\u001b[0;31m         \u001b[0mself\u001b[0m\u001b[0;34m.\u001b[0m\u001b[0m_open_handles\u001b[0m\u001b[0;34m(\u001b[0m\u001b[0msrc\u001b[0m\u001b[0;34m,\u001b[0m \u001b[0mkwds\u001b[0m\u001b[0;34m)\u001b[0m\u001b[0;34m\u001b[0m\u001b[0;34m\u001b[0m\u001b[0m\n\u001b[0m\u001b[1;32m     52\u001b[0m         \u001b[0;32massert\u001b[0m \u001b[0mself\u001b[0m\u001b[0;34m.\u001b[0m\u001b[0mhandles\u001b[0m \u001b[0;32mis\u001b[0m \u001b[0;32mnot\u001b[0m \u001b[0;32mNone\u001b[0m\u001b[0;34m\u001b[0m\u001b[0;34m\u001b[0m\u001b[0m\n\u001b[1;32m     53\u001b[0m \u001b[0;34m\u001b[0m\u001b[0m\n",
            "\u001b[0;32m/usr/local/lib/python3.7/dist-packages/pandas/io/parsers/base_parser.py\u001b[0m in \u001b[0;36m_open_handles\u001b[0;34m(self, src, kwds)\u001b[0m\n\u001b[1;32m    227\u001b[0m             \u001b[0mmemory_map\u001b[0m\u001b[0;34m=\u001b[0m\u001b[0mkwds\u001b[0m\u001b[0;34m.\u001b[0m\u001b[0mget\u001b[0m\u001b[0;34m(\u001b[0m\u001b[0;34m\"memory_map\"\u001b[0m\u001b[0;34m,\u001b[0m \u001b[0;32mFalse\u001b[0m\u001b[0;34m)\u001b[0m\u001b[0;34m,\u001b[0m\u001b[0;34m\u001b[0m\u001b[0;34m\u001b[0m\u001b[0m\n\u001b[1;32m    228\u001b[0m             \u001b[0mstorage_options\u001b[0m\u001b[0;34m=\u001b[0m\u001b[0mkwds\u001b[0m\u001b[0;34m.\u001b[0m\u001b[0mget\u001b[0m\u001b[0;34m(\u001b[0m\u001b[0;34m\"storage_options\"\u001b[0m\u001b[0;34m,\u001b[0m \u001b[0;32mNone\u001b[0m\u001b[0;34m)\u001b[0m\u001b[0;34m,\u001b[0m\u001b[0;34m\u001b[0m\u001b[0;34m\u001b[0m\u001b[0m\n\u001b[0;32m--> 229\u001b[0;31m             \u001b[0merrors\u001b[0m\u001b[0;34m=\u001b[0m\u001b[0mkwds\u001b[0m\u001b[0;34m.\u001b[0m\u001b[0mget\u001b[0m\u001b[0;34m(\u001b[0m\u001b[0;34m\"encoding_errors\"\u001b[0m\u001b[0;34m,\u001b[0m \u001b[0;34m\"strict\"\u001b[0m\u001b[0;34m)\u001b[0m\u001b[0;34m,\u001b[0m\u001b[0;34m\u001b[0m\u001b[0;34m\u001b[0m\u001b[0m\n\u001b[0m\u001b[1;32m    230\u001b[0m         )\n\u001b[1;32m    231\u001b[0m \u001b[0;34m\u001b[0m\u001b[0m\n",
            "\u001b[0;32m/usr/local/lib/python3.7/dist-packages/pandas/io/common.py\u001b[0m in \u001b[0;36mget_handle\u001b[0;34m(path_or_buf, mode, encoding, compression, memory_map, is_text, errors, storage_options)\u001b[0m\n\u001b[1;32m    705\u001b[0m                 \u001b[0mencoding\u001b[0m\u001b[0;34m=\u001b[0m\u001b[0mioargs\u001b[0m\u001b[0;34m.\u001b[0m\u001b[0mencoding\u001b[0m\u001b[0;34m,\u001b[0m\u001b[0;34m\u001b[0m\u001b[0;34m\u001b[0m\u001b[0m\n\u001b[1;32m    706\u001b[0m                 \u001b[0merrors\u001b[0m\u001b[0;34m=\u001b[0m\u001b[0merrors\u001b[0m\u001b[0;34m,\u001b[0m\u001b[0;34m\u001b[0m\u001b[0;34m\u001b[0m\u001b[0m\n\u001b[0;32m--> 707\u001b[0;31m                 \u001b[0mnewline\u001b[0m\u001b[0;34m=\u001b[0m\u001b[0;34m\"\"\u001b[0m\u001b[0;34m,\u001b[0m\u001b[0;34m\u001b[0m\u001b[0;34m\u001b[0m\u001b[0m\n\u001b[0m\u001b[1;32m    708\u001b[0m             )\n\u001b[1;32m    709\u001b[0m         \u001b[0;32melse\u001b[0m\u001b[0;34m:\u001b[0m\u001b[0;34m\u001b[0m\u001b[0;34m\u001b[0m\u001b[0m\n",
            "\u001b[0;31mFileNotFoundError\u001b[0m: [Errno 2] No such file or directory: 'sample_data.csv'"
          ]
        }
      ]
    },
    {
      "cell_type": "code",
      "source": [
        "df.shape"
      ],
      "metadata": {
        "execution": {
          "iopub.status.busy": "2022-11-03T07:23:19.106084Z",
          "iopub.execute_input": "2022-11-03T07:23:19.106337Z",
          "iopub.status.idle": "2022-11-03T07:23:19.111496Z",
          "shell.execute_reply.started": "2022-11-03T07:23:19.106314Z",
          "shell.execute_reply": "2022-11-03T07:23:19.110730Z"
        },
        "trusted": true,
        "id": "trDrZObnKAWi"
      },
      "execution_count": null,
      "outputs": []
    },
    {
      "cell_type": "code",
      "source": [
        "df.describe()"
      ],
      "metadata": {
        "execution": {
          "iopub.status.busy": "2022-11-03T07:23:19.113698Z",
          "iopub.execute_input": "2022-11-03T07:23:19.114179Z",
          "iopub.status.idle": "2022-11-03T07:23:19.156648Z",
          "shell.execute_reply.started": "2022-11-03T07:23:19.114148Z",
          "shell.execute_reply": "2022-11-03T07:23:19.155952Z"
        },
        "trusted": true,
        "id": "vV2sqnJvKAWi"
      },
      "execution_count": null,
      "outputs": []
    },
    {
      "cell_type": "code",
      "source": [
        "df.info()"
      ],
      "metadata": {
        "execution": {
          "iopub.status.busy": "2022-11-03T07:23:19.158551Z",
          "iopub.execute_input": "2022-11-03T07:23:19.158873Z",
          "iopub.status.idle": "2022-11-03T07:23:19.174598Z",
          "shell.execute_reply.started": "2022-11-03T07:23:19.158849Z",
          "shell.execute_reply": "2022-11-03T07:23:19.173772Z"
        },
        "trusted": true,
        "id": "Joy6QvKtKAWi"
      },
      "execution_count": null,
      "outputs": []
    },
    {
      "cell_type": "code",
      "source": [
        "df.columns"
      ],
      "metadata": {
        "execution": {
          "iopub.status.busy": "2022-11-03T07:23:19.175716Z",
          "iopub.execute_input": "2022-11-03T07:23:19.176278Z",
          "iopub.status.idle": "2022-11-03T07:23:19.184712Z",
          "shell.execute_reply.started": "2022-11-03T07:23:19.176255Z",
          "shell.execute_reply": "2022-11-03T07:23:19.183894Z"
        },
        "trusted": true,
        "id": "BLxTdGEkKAWi"
      },
      "execution_count": null,
      "outputs": []
    },
    {
      "cell_type": "code",
      "source": [
        "df.drop(['ADDRESSLINE1', 'ADDRESSLINE2', 'POSTALCODE', 'CITY', 'TERRITORY', 'PHONE', 'STATE', 'CONTACTFIRSTNAME', 'CONTACTLASTNAME', 'CUSTOMERNAME', 'ORDERNUMBER'], axis=1,inplace=True)"
      ],
      "metadata": {
        "execution": {
          "iopub.status.busy": "2022-11-03T07:23:19.185576Z",
          "iopub.execute_input": "2022-11-03T07:23:19.185891Z",
          "iopub.status.idle": "2022-11-03T07:23:19.193914Z",
          "shell.execute_reply.started": "2022-11-03T07:23:19.185870Z",
          "shell.execute_reply": "2022-11-03T07:23:19.193319Z"
        },
        "trusted": true,
        "id": "_X6rkgEtKAWj"
      },
      "execution_count": null,
      "outputs": []
    },
    {
      "cell_type": "code",
      "source": [
        "df.shape"
      ],
      "metadata": {
        "execution": {
          "iopub.status.busy": "2022-11-03T07:23:19.194811Z",
          "iopub.execute_input": "2022-11-03T07:23:19.195486Z",
          "iopub.status.idle": "2022-11-03T07:23:19.205798Z",
          "shell.execute_reply.started": "2022-11-03T07:23:19.195464Z",
          "shell.execute_reply": "2022-11-03T07:23:19.205183Z"
        },
        "trusted": true,
        "id": "y_212_ooKAWk"
      },
      "execution_count": null,
      "outputs": []
    },
    {
      "cell_type": "code",
      "source": [
        "df.head()"
      ],
      "metadata": {
        "execution": {
          "iopub.status.busy": "2022-11-03T07:23:19.207909Z",
          "iopub.execute_input": "2022-11-03T07:23:19.208387Z",
          "iopub.status.idle": "2022-11-03T07:23:19.222865Z",
          "shell.execute_reply.started": "2022-11-03T07:23:19.208357Z",
          "shell.execute_reply": "2022-11-03T07:23:19.222248Z"
        },
        "trusted": true,
        "id": "w9kKgJbpKAWl",
        "colab": {
          "base_uri": "https://localhost:8080/",
          "height": 166
        },
        "outputId": "0df52a34-c7bb-4335-c62c-377f1b00e8e1"
      },
      "execution_count": null,
      "outputs": [
        {
          "output_type": "error",
          "ename": "NameError",
          "evalue": "ignored",
          "traceback": [
            "\u001b[0;31m---------------------------------------------------------------------------\u001b[0m",
            "\u001b[0;31mNameError\u001b[0m                                 Traceback (most recent call last)",
            "\u001b[0;32m<ipython-input-7-c42a15b2c7cf>\u001b[0m in \u001b[0;36m<module>\u001b[0;34m\u001b[0m\n\u001b[0;32m----> 1\u001b[0;31m \u001b[0mdf\u001b[0m\u001b[0;34m.\u001b[0m\u001b[0mhead\u001b[0m\u001b[0;34m(\u001b[0m\u001b[0;34m)\u001b[0m\u001b[0;34m\u001b[0m\u001b[0;34m\u001b[0m\u001b[0m\n\u001b[0m",
            "\u001b[0;31mNameError\u001b[0m: name 'df' is not defined"
          ]
        }
      ]
    },
    {
      "cell_type": "code",
      "source": [
        "df.drop('ORDERDATE', axis=1, inplace=True)"
      ],
      "metadata": {
        "execution": {
          "iopub.status.busy": "2022-11-03T07:23:19.223918Z",
          "iopub.execute_input": "2022-11-03T07:23:19.224401Z",
          "iopub.status.idle": "2022-11-03T07:23:19.229144Z",
          "shell.execute_reply.started": "2022-11-03T07:23:19.224372Z",
          "shell.execute_reply": "2022-11-03T07:23:19.228493Z"
        },
        "trusted": true,
        "id": "M-HLov_4KAWl"
      },
      "execution_count": null,
      "outputs": []
    },
    {
      "cell_type": "code",
      "source": [
        "df.shape"
      ],
      "metadata": {
        "execution": {
          "iopub.status.busy": "2022-11-03T07:23:19.270759Z",
          "iopub.execute_input": "2022-11-03T07:23:19.271480Z",
          "iopub.status.idle": "2022-11-03T07:23:19.277469Z",
          "shell.execute_reply.started": "2022-11-03T07:23:19.271449Z",
          "shell.execute_reply": "2022-11-03T07:23:19.276802Z"
        },
        "trusted": true,
        "id": "EXe-IrX-KAWm"
      },
      "execution_count": null,
      "outputs": []
    },
    {
      "cell_type": "code",
      "source": [
        "df.head()"
      ],
      "metadata": {
        "execution": {
          "iopub.status.busy": "2022-11-03T07:23:19.279308Z",
          "iopub.execute_input": "2022-11-03T07:23:19.279914Z",
          "iopub.status.idle": "2022-11-03T07:23:19.296134Z",
          "shell.execute_reply.started": "2022-11-03T07:23:19.279885Z",
          "shell.execute_reply": "2022-11-03T07:23:19.295264Z"
        },
        "trusted": true,
        "id": "8ib-qkq-KAWn"
      },
      "execution_count": null,
      "outputs": []
    },
    {
      "cell_type": "code",
      "source": [
        "df.STATUS.unique()"
      ],
      "metadata": {
        "execution": {
          "iopub.status.busy": "2022-11-03T07:23:19.298545Z",
          "iopub.execute_input": "2022-11-03T07:23:19.298778Z",
          "iopub.status.idle": "2022-11-03T07:23:19.304416Z",
          "shell.execute_reply.started": "2022-11-03T07:23:19.298756Z",
          "shell.execute_reply": "2022-11-03T07:23:19.303651Z"
        },
        "trusted": true,
        "id": "KsRNbb_pKAWn"
      },
      "execution_count": null,
      "outputs": []
    },
    {
      "cell_type": "code",
      "source": [
        "a = {'Shipped':0, 'Disputed':1, 'In Process':2, 'Cancelled':3, 'On Hold':4,'Resolved':5}\n",
        "df.STATUS.replace(a,inplace=True)\n",
        "df.STATUS.unique()"
      ],
      "metadata": {
        "execution": {
          "iopub.status.busy": "2022-11-03T07:23:19.305552Z",
          "iopub.execute_input": "2022-11-03T07:23:19.306241Z",
          "iopub.status.idle": "2022-11-03T07:23:19.318141Z",
          "shell.execute_reply.started": "2022-11-03T07:23:19.306212Z",
          "shell.execute_reply": "2022-11-03T07:23:19.317548Z"
        },
        "trusted": true,
        "id": "NEM7_CvzKAWn"
      },
      "execution_count": null,
      "outputs": []
    },
    {
      "cell_type": "code",
      "source": [
        "df.PRODUCTLINE.unique()"
      ],
      "metadata": {
        "execution": {
          "iopub.status.busy": "2022-11-03T07:23:19.320012Z",
          "iopub.execute_input": "2022-11-03T07:23:19.320240Z",
          "iopub.status.idle": "2022-11-03T07:23:19.325035Z",
          "shell.execute_reply.started": "2022-11-03T07:23:19.320221Z",
          "shell.execute_reply": "2022-11-03T07:23:19.324348Z"
        },
        "trusted": true,
        "id": "loCyIe08KAWo"
      },
      "execution_count": null,
      "outputs": []
    },
    {
      "cell_type": "code",
      "source": [
        "a = {'Motorcycles':0, 'Classic Cars':1, 'Trucks and Buses':2, 'Vintage Cars':3,\n",
        "       'Planes':4, 'Ships':5, 'Trains':6}\n",
        "df.PRODUCTLINE.replace(a, inplace=True)"
      ],
      "metadata": {
        "execution": {
          "iopub.status.busy": "2022-11-03T07:23:19.326100Z",
          "iopub.execute_input": "2022-11-03T07:23:19.326320Z",
          "iopub.status.idle": "2022-11-03T07:23:19.337021Z",
          "shell.execute_reply.started": "2022-11-03T07:23:19.326299Z",
          "shell.execute_reply": "2022-11-03T07:23:19.336157Z"
        },
        "trusted": true,
        "id": "pkV04mCGKAWo"
      },
      "execution_count": null,
      "outputs": []
    },
    {
      "cell_type": "code",
      "source": [
        "countries = df.COUNTRY.unique()\n",
        "countries"
      ],
      "metadata": {
        "execution": {
          "iopub.status.busy": "2022-11-03T07:23:19.337957Z",
          "iopub.execute_input": "2022-11-03T07:23:19.338187Z",
          "iopub.status.idle": "2022-11-03T07:23:19.349197Z",
          "shell.execute_reply.started": "2022-11-03T07:23:19.338163Z",
          "shell.execute_reply": "2022-11-03T07:23:19.348464Z"
        },
        "trusted": true,
        "id": "I0hmBrIvKAWo"
      },
      "execution_count": null,
      "outputs": []
    },
    {
      "cell_type": "code",
      "source": [
        "a = {}\n",
        "ctr = 0\n",
        "for i in countries:\n",
        "    a[i] = ctr\n",
        "    ctr+=1\n",
        "df.COUNTRY.replace(a, inplace=True)\n",
        "df.COUNTRY.unique()"
      ],
      "metadata": {
        "execution": {
          "iopub.status.busy": "2022-11-03T07:23:19.350428Z",
          "iopub.execute_input": "2022-11-03T07:23:19.350827Z",
          "iopub.status.idle": "2022-11-03T07:23:19.366468Z",
          "shell.execute_reply.started": "2022-11-03T07:23:19.350798Z",
          "shell.execute_reply": "2022-11-03T07:23:19.365721Z"
        },
        "trusted": true,
        "id": "UIBdoX7EKAWo"
      },
      "execution_count": null,
      "outputs": []
    },
    {
      "cell_type": "code",
      "source": [
        "df.DEALSIZE.unique()"
      ],
      "metadata": {
        "execution": {
          "iopub.status.busy": "2022-11-03T07:23:19.367460Z",
          "iopub.execute_input": "2022-11-03T07:23:19.368111Z",
          "iopub.status.idle": "2022-11-03T07:23:19.372941Z",
          "shell.execute_reply.started": "2022-11-03T07:23:19.368089Z",
          "shell.execute_reply": "2022-11-03T07:23:19.372172Z"
        },
        "trusted": true,
        "id": "SFpTXjB1KAWo"
      },
      "execution_count": null,
      "outputs": []
    },
    {
      "cell_type": "code",
      "source": [
        "df.replace({\"Small\":0,\"Medium\":1,\"Large\":2 }, inplace=True)\n"
      ],
      "metadata": {
        "execution": {
          "iopub.status.busy": "2022-11-03T07:23:19.374019Z",
          "iopub.execute_input": "2022-11-03T07:23:19.374249Z",
          "iopub.status.idle": "2022-11-03T07:23:19.384136Z",
          "shell.execute_reply.started": "2022-11-03T07:23:19.374228Z",
          "shell.execute_reply": "2022-11-03T07:23:19.383325Z"
        },
        "trusted": true,
        "id": "5YfsbKfwKAWp"
      },
      "execution_count": null,
      "outputs": []
    },
    {
      "cell_type": "code",
      "source": [
        "df.head()"
      ],
      "metadata": {
        "execution": {
          "iopub.status.busy": "2022-11-03T07:23:19.385175Z",
          "iopub.execute_input": "2022-11-03T07:23:19.385421Z",
          "iopub.status.idle": "2022-11-03T07:23:19.400593Z",
          "shell.execute_reply.started": "2022-11-03T07:23:19.385398Z",
          "shell.execute_reply": "2022-11-03T07:23:19.399811Z"
        },
        "trusted": true,
        "id": "4HZRfqVTKAWp"
      },
      "execution_count": null,
      "outputs": []
    },
    {
      "cell_type": "code",
      "source": [
        "codes = df.PRODUCTCODE.unique()"
      ],
      "metadata": {
        "execution": {
          "iopub.status.busy": "2022-11-03T07:23:19.401729Z",
          "iopub.execute_input": "2022-11-03T07:23:19.402446Z",
          "iopub.status.idle": "2022-11-03T07:23:19.406352Z",
          "shell.execute_reply.started": "2022-11-03T07:23:19.402415Z",
          "shell.execute_reply": "2022-11-03T07:23:19.405823Z"
        },
        "trusted": true,
        "id": "JHeBAz83KAWp"
      },
      "execution_count": null,
      "outputs": []
    },
    {
      "cell_type": "code",
      "source": [
        "a = {}\n",
        "ctr = 0\n",
        "for i in codes:\n",
        "    a[i] = ctr\n",
        "    ctr+=1\n",
        "df.PRODUCTCODE.replace(a, inplace=True)\n",
        "df.PRODUCTCODE.unique()"
      ],
      "metadata": {
        "execution": {
          "iopub.status.busy": "2022-11-03T07:23:19.407214Z",
          "iopub.execute_input": "2022-11-03T07:23:19.407436Z",
          "iopub.status.idle": "2022-11-03T07:23:19.443823Z",
          "shell.execute_reply.started": "2022-11-03T07:23:19.407415Z",
          "shell.execute_reply": "2022-11-03T07:23:19.443047Z"
        },
        "trusted": true,
        "id": "jA-kRnPYKAWp"
      },
      "execution_count": null,
      "outputs": []
    },
    {
      "cell_type": "code",
      "source": [
        "df.head()"
      ],
      "metadata": {
        "execution": {
          "iopub.status.busy": "2022-11-03T07:23:19.447282Z",
          "iopub.execute_input": "2022-11-03T07:23:19.447532Z",
          "iopub.status.idle": "2022-11-03T07:23:19.460743Z",
          "shell.execute_reply.started": "2022-11-03T07:23:19.447509Z",
          "shell.execute_reply": "2022-11-03T07:23:19.460095Z"
        },
        "trusted": true,
        "id": "rc1uluUaKAWp"
      },
      "execution_count": null,
      "outputs": []
    },
    {
      "cell_type": "code",
      "source": [
        "df.MSRP.unique()"
      ],
      "metadata": {
        "execution": {
          "iopub.status.busy": "2022-11-03T07:23:19.461611Z",
          "iopub.execute_input": "2022-11-03T07:23:19.462260Z",
          "iopub.status.idle": "2022-11-03T07:23:19.473733Z",
          "shell.execute_reply.started": "2022-11-03T07:23:19.462229Z",
          "shell.execute_reply": "2022-11-03T07:23:19.473011Z"
        },
        "trusted": true,
        "id": "vJnE6ClGKAWp"
      },
      "execution_count": null,
      "outputs": []
    },
    {
      "cell_type": "code",
      "source": [
        "from sklearn.preprocessing import StandardScaler, normalize\n",
        "from sklearn.cluster import KMeans\n",
        "from sklearn.decomposition import PCA\n",
        "from sklearn.metrics import silhouette_score\n",
        "from sklearn.manifold import TSNE\n",
        "from sklearn.metrics.pairwise import cosine_similarity"
      ],
      "metadata": {
        "execution": {
          "iopub.status.busy": "2022-11-03T07:23:19.474627Z",
          "iopub.execute_input": "2022-11-03T07:23:19.475260Z",
          "iopub.status.idle": "2022-11-03T07:23:20.509310Z",
          "shell.execute_reply.started": "2022-11-03T07:23:19.475232Z",
          "shell.execute_reply": "2022-11-03T07:23:20.508546Z"
        },
        "trusted": true,
        "id": "6XwqihInKAWp"
      },
      "execution_count": null,
      "outputs": []
    },
    {
      "cell_type": "code",
      "source": [
        "scaler =  StandardScaler()\n",
        "df_scaled = scaler.fit_transform(df)"
      ],
      "metadata": {
        "execution": {
          "iopub.status.busy": "2022-11-03T07:23:20.510216Z",
          "iopub.execute_input": "2022-11-03T07:23:20.510463Z",
          "iopub.status.idle": "2022-11-03T07:23:20.518626Z",
          "shell.execute_reply.started": "2022-11-03T07:23:20.510440Z",
          "shell.execute_reply": "2022-11-03T07:23:20.517909Z"
        },
        "trusted": true,
        "id": "vmnYxG6NKAWq"
      },
      "execution_count": null,
      "outputs": []
    },
    {
      "cell_type": "markdown",
      "source": [
        "<h1>Elbow Method</h1>"
      ],
      "metadata": {
        "id": "oeeWriUFKAWq"
      }
    },
    {
      "cell_type": "code",
      "source": [
        "scores = []\n",
        "range_values = range(1, 15)\n",
        "for i in range_values:\n",
        "    kmeans = KMeans(n_clusters = i)\n",
        "    kmeans.fit(df_scaled)\n",
        "    scores.append(kmeans.inertia_)"
      ],
      "metadata": {
        "execution": {
          "iopub.status.busy": "2022-11-03T07:23:20.519798Z",
          "iopub.execute_input": "2022-11-03T07:23:20.520027Z",
          "iopub.status.idle": "2022-11-03T07:23:40.288579Z",
          "shell.execute_reply.started": "2022-11-03T07:23:20.520005Z",
          "shell.execute_reply": "2022-11-03T07:23:40.287546Z"
        },
        "trusted": true,
        "id": "-DKdHt6IKAWr"
      },
      "execution_count": null,
      "outputs": []
    },
    {
      "cell_type": "code",
      "source": [
        "plt.plot(scores, 'bx-')\n",
        "plt.title('Finding right number of clusters')\n",
        "plt.xlabel('Clusters')\n",
        "plt.ylabel('scores') \n",
        "plt.show();"
      ],
      "metadata": {
        "execution": {
          "iopub.status.busy": "2022-11-03T07:23:40.290098Z",
          "iopub.execute_input": "2022-11-03T07:23:40.290397Z",
          "iopub.status.idle": "2022-11-03T07:23:40.441655Z",
          "shell.execute_reply.started": "2022-11-03T07:23:40.290369Z",
          "shell.execute_reply": "2022-11-03T07:23:40.440756Z"
        },
        "trusted": true,
        "id": "yF1-UZjRKAWs"
      },
      "execution_count": null,
      "outputs": []
    },
    {
      "cell_type": "markdown",
      "source": [
        "Optimal K using Elbow Method is 4"
      ],
      "metadata": {
        "id": "pFIerDqAKAWs"
      }
    },
    {
      "cell_type": "code",
      "source": [
        "kmeans = KMeans(4)\n",
        "kmeans.fit(df_scaled)"
      ],
      "metadata": {
        "execution": {
          "iopub.status.busy": "2022-11-03T07:23:40.442905Z",
          "iopub.execute_input": "2022-11-03T07:23:40.443165Z",
          "iopub.status.idle": "2022-11-03T07:23:41.788120Z",
          "shell.execute_reply.started": "2022-11-03T07:23:40.443134Z",
          "shell.execute_reply": "2022-11-03T07:23:41.787415Z"
        },
        "trusted": true,
        "id": "TsYr_OfJKAWs"
      },
      "execution_count": null,
      "outputs": []
    },
    {
      "cell_type": "code",
      "source": [
        "labels = kmeans.labels_\n",
        "labels"
      ],
      "metadata": {
        "execution": {
          "iopub.status.busy": "2022-11-03T07:23:41.791094Z",
          "iopub.execute_input": "2022-11-03T07:23:41.791620Z",
          "iopub.status.idle": "2022-11-03T07:23:41.797724Z",
          "shell.execute_reply.started": "2022-11-03T07:23:41.791594Z",
          "shell.execute_reply": "2022-11-03T07:23:41.796816Z"
        },
        "trusted": true,
        "id": "yt-rLxzKKAWs"
      },
      "execution_count": null,
      "outputs": []
    }
  ]
}