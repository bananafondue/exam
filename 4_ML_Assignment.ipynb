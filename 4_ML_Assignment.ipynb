{
  "cells": [
    {
      "cell_type": "markdown",
      "metadata": {
        "id": "VF9dkqXhynhP"
      },
      "source": [
        "Assignment 4 : \n",
        "Implement Gradient Descent Algorithm to find the local minima of a function.For example, find the local minima of the function y=(x+3)² starting from the point x=2."
      ],
      "id": "VF9dkqXhynhP"
    },
    {
      "cell_type": "code",
      "execution_count": 1,
      "metadata": {
        "id": "xjrrPFDKynhT"
      },
      "outputs": [],
      "source": [
        "import numpy as np"
      ],
      "id": "xjrrPFDKynhT"
    },
    {
      "cell_type": "code",
      "execution_count": 2,
      "metadata": {
        "id": "XkXUiUP8ynhV"
      },
      "outputs": [],
      "source": [
        "def gradient_descent(start, gradient, learn_rate, max_iter, tol=0.01):\n",
        "    steps = [start] \n",
        "    x = start\n",
        "\n",
        "    for _ in range(max_iter):\n",
        "        diff = learn_rate*gradient(x)\n",
        "        if np.abs(diff)<tol:\n",
        "            break    \n",
        "        x = x - diff\n",
        "        steps.append(x) \n",
        "\n",
        "    return steps, x"
      ],
      "id": "XkXUiUP8ynhV"
    },
    {
      "cell_type": "code",
      "execution_count": 3,
      "metadata": {
        "id": "9w0GbvugynhW"
      },
      "outputs": [],
      "source": [
        "def func1(x):\n",
        "    return x**2-4*x+1\n",
        "\n",
        "def gradient_func1(x):\n",
        "    return 2*x - 4"
      ],
      "id": "9w0GbvugynhW"
    },
    {
      "cell_type": "code",
      "execution_count": 4,
      "metadata": {
        "id": "vu2KUsToynhW"
      },
      "outputs": [],
      "source": [
        "history, result = gradient_descent(9, gradient_func1, 0.1, 100)"
      ],
      "id": "vu2KUsToynhW"
    },
    {
      "cell_type": "code",
      "execution_count": 5,
      "metadata": {
        "id": "5awUQfaUynhX",
        "outputId": "70498c79-1244-4e61-9bc4-59711dd069c4",
        "colab": {
          "base_uri": "https://localhost:8080/"
        }
      },
      "outputs": [
        {
          "output_type": "stream",
          "name": "stdout",
          "text": [
            "History [9, 7.6, 6.4799999999999995, 5.584, 4.8671999999999995, 4.29376, 3.8350079999999998, 3.4680063999999997, 3.17440512, 2.939524096, 2.7516192768, 2.60129542144, 2.481036337152, 2.3848290697216, 2.30786325577728, 2.246290604621824, 2.197032483697459, 2.1576259869579673, 2.1261007895663737, 2.100880631653099, 2.080704505322479, 2.064563604257983, 2.0516508834063862, 2.041320706725109]\n"
          ]
        }
      ],
      "source": [
        "print('History',history)"
      ],
      "id": "5awUQfaUynhX"
    },
    {
      "cell_type": "code",
      "execution_count": 6,
      "metadata": {
        "id": "0RLTWPoZynhY",
        "outputId": "0912244f-7243-455e-9743-39f49fbf0b14",
        "colab": {
          "base_uri": "https://localhost:8080/"
        }
      },
      "outputs": [
        {
          "output_type": "stream",
          "name": "stdout",
          "text": [
            "Result 2.041320706725109\n"
          ]
        }
      ],
      "source": [
        "print('Result',result)"
      ],
      "id": "0RLTWPoZynhY"
    }
  ],
  "metadata": {
    "colab": {
      "provenance": []
    },
    "kernelspec": {
      "display_name": "Python 3",
      "language": "python",
      "name": "python3"
    },
    "language_info": {
      "codemirror_mode": {
        "name": "ipython",
        "version": 3
      },
      "file_extension": ".py",
      "mimetype": "text/x-python",
      "name": "python",
      "nbconvert_exporter": "python",
      "pygments_lexer": "ipython3",
      "version": "3.8.5"
    }
  },
  "nbformat": 4,
  "nbformat_minor": 5
}